{
  "nbformat": 4,
  "nbformat_minor": 0,
  "metadata": {
    "colab": {
      "provenance": [],
      "authorship_tag": "ABX9TyOpHgxeKTo0CU83ScH4srK4",
      "include_colab_link": true
    },
    "kernelspec": {
      "name": "python3",
      "display_name": "Python 3"
    },
    "language_info": {
      "name": "python"
    }
  },
  "cells": [
    {
      "cell_type": "markdown",
      "metadata": {
        "id": "view-in-github",
        "colab_type": "text"
      },
      "source": [
        "<a href=\"https://colab.research.google.com/github/dtabuena/Patch_Ephys/blob/main/misc_utils.ipynb\" target=\"_parent\"><img src=\"https://colab.research.google.com/assets/colab-badge.svg\" alt=\"Open In Colab\"/></a>"
      ]
    },
    {
      "cell_type": "code",
      "execution_count": null,
      "metadata": {
        "id": "7EikLK0Mi-mw"
      },
      "outputs": [],
      "source": [
        "def protocol_baseline_and_stim(abf):\n",
        "    'Return two boolean arrays, distiguishing holding I/V and electrical stimuli'\n",
        "    # use command signal variance to determine stimulus periods\n",
        "    commands = []\n",
        "    for s in abf.sweepList:\n",
        "        abf.setSweep(sweepNumber=s)\n",
        "        commands.append(abf.sweepC)\n",
        "    commands = np.stack(commands)\n",
        "\n",
        "    std = np.std(commands, axis=0)\n",
        "    is_base = std==0\n",
        "    is_stim = np.logical_not(is_base)\n",
        "    return is_base, is_stim"
      ]
    },
    {
      "cell_type": "code",
      "source": [
        "def movmean(x, w):\n",
        "    'A moving mean filter'\n",
        "    w = int(w)\n",
        "    # plt.plot(np.arange(len(x)) - int(len(x)/2), x)\n",
        "    if len(x) < w: w = len(x)\n",
        "    px = np.pad(x,int(np.ceil((w-1)/2)),'edge')\n",
        "    if len(px)-len(x) == w: px = px[0:-1]\n",
        "    conv = np.convolve(px, np.ones(w), 'valid') / w\n",
        "    return conv"
      ],
      "metadata": {
        "id": "WLvdZ-vjkFME"
      },
      "execution_count": null,
      "outputs": []
    },
    {
      "cell_type": "code",
      "source": [
        "def spikes_per_stim_LEGACY(abf,spike_args,mode='count', to_plot=0):\n",
        "    '''Loops through sweeps of an abf to find spikes'''\n",
        "    # init\n",
        "    stim_currents = []\n",
        "    spike_rates = []\n",
        "    spike_counts = []\n",
        "    v_before_spike1 = []\n",
        "    v_before_stim = []\n",
        "    fire_dur = []\n",
        "    inds_list=[]\n",
        "    # get sweep info\n",
        "    is_base, is_stim = protocol_baseline_and_stim(abf)\n",
        "\n",
        "    # get spike per sweep\n",
        "    for s in abf.sweepList:\n",
        "        abf.setSweep(s)\n",
        "        dVds, over_thresh, inds, mean_spike_rate = find_spike_in_trace(abf.sweepY,abf.sampleRate,spike_args,is_stim=is_stim,mode='count',to_plot=to_plot)\n",
        "        rel_firing_duration = check_inactivation( abf.sweepX, abf.sweepY, is_stim, abf.sampleRate, dVds, inds, mean_spike_rate, to_plot=0 )\n",
        "        # plot id'd spikes\n",
        "        if to_plot>1:\n",
        "            fig, axs = plt.subplots(1)\n",
        "            axs.scatter(abf.sweepX[inds],abf.sweepY[inds],color='red',zorder=2)\n",
        "            axs.plot(abf.sweepX ,abf.sweepY,zorder=1)\n",
        "            plt.show()\n",
        "        # calc multi sweep params\n",
        "        stim_level = np.median(abf.sweepC[is_stim])\n",
        "        stim_currents.append(stim_level)\n",
        "        spike_rates.append(mean_spike_rate)\n",
        "        spike_counts.append(len(inds))\n",
        "        is_prestim = np.equal(np.cumsum( np.diff(is_base,prepend=1)),0)\n",
        "        v_before_stim.append( np.mean(abf.sweepY[is_prestim] ))\n",
        "        fire_dur.append(rel_firing_duration)\n",
        "        inds_list.append(inds)\n",
        "        if len(inds)>0:\n",
        "            v_before_spike1.append(abf.sweepY[inds[0]])\n",
        "        else:\n",
        "            v_before_spike1.append(np.nan)\n",
        "\n",
        "    isi_rates = initial_inst_firing_rate(abf.sweepX,inds_list,num_spikes=2,to_plot=False)\n",
        "    pulse_dur = len(is_stim[is_stim])/abf.sampleRate\n",
        "    isi_rates = [ 1/(pulse_dur)  if spike_counts[i]==1 else isi_rates[i] for i in range(len(isi_rates))]\n",
        "\n",
        "    try:\n",
        "        max_fire = np.max(spike_counts)\n",
        "        ind_max = np.where(spike_counts==max_fire)[0][0]\n",
        "        fire_dur_max = fire_dur[ind_max]\n",
        "    except: fire_dur_max = None\n",
        "\n",
        "\n",
        "    return np.array(stim_currents), np.array(spike_counts), np.array(spike_rates), np.array(v_before_spike1), np.array(v_before_stim) , fire_dur_max, isi_rates\n",
        ""
      ],
      "metadata": {
        "id": "Xn0_f-5mQfEw"
      },
      "execution_count": null,
      "outputs": []
    },
    {
      "cell_type": "code",
      "source": [
        "def spikes_per_stim(abf,spike_args,mode='count', to_plot=0):\n",
        "    '''Loops through sweeps of an abf to find spikes'''\n",
        "    # init\n",
        "    stim_currents = []\n",
        "    spike_rates = []\n",
        "    spike_counts = []\n",
        "    v_before_spike1 = []\n",
        "    v_before_stim = []\n",
        "    fire_dur = []\n",
        "    inds_list=[]\n",
        "    # get sweep info\n",
        "    is_base, is_stim = protocol_baseline_and_stim(abf)\n",
        "\n",
        "    # get spike per sweep\n",
        "    for s in abf.sweepList:\n",
        "        abf.setSweep(s)\n",
        "        dVds, over_thresh, inds, mean_spike_rate = find_spike_in_trace(abf.sweepY,abf.sampleRate,spike_args,is_stim=is_stim,mode='count',to_plot=to_plot)\n",
        "        rel_firing_duration = check_inactivation( abf.sweepX, abf.sweepY, is_stim, abf.sampleRate, dVds, inds, mean_spike_rate, to_plot=0 )\n",
        "        # plot id'd spikes\n",
        "        if to_plot>1:\n",
        "            fig, axs = plt.subplots(1)\n",
        "            axs.scatter(abf.sweepX[inds],abf.sweepY[inds],color='red',zorder=2)\n",
        "            axs.plot(abf.sweepX ,abf.sweepY,zorder=1)\n",
        "            plt.show()\n",
        "        # calc multi sweep params\n",
        "        stim_level = np.median(abf.sweepC[is_stim])\n",
        "        stim_currents.append(stim_level)\n",
        "        spike_rates.append(mean_spike_rate)\n",
        "        spike_counts.append(len(inds))\n",
        "        is_prestim = np.equal(np.cumsum( np.diff(is_base,prepend=1)),0)\n",
        "        v_before_stim.append( np.mean(abf.sweepY[is_prestim] ))\n",
        "        fire_dur.append(rel_firing_duration)\n",
        "        inds_list.append(inds)\n",
        "        if len(inds)>0:\n",
        "            v_before_spike1.append(abf.sweepY[inds[0]])\n",
        "        else:\n",
        "            v_before_spike1.append(np.nan)\n",
        "\n",
        "\n",
        "    pulse_dur = len(is_stim[is_stim])/abf.sampleRate\n",
        "    try:\n",
        "        max_fire = np.max(spike_counts)\n",
        "        ind_max = np.where(spike_counts==max_fire)[0][0]\n",
        "        fire_dur_max = fire_dur[ind_max]\n",
        "    except: fire_dur_max = None\n",
        "\n",
        "\n",
        "    time_offest = abf.sweepX[is_stim][0]\n",
        "    spike_times = [abf.sweepX[il]-time_offest for il in inds_list]\n",
        "    isi_rates = mean_inst_firing_rate(spike_times)\n",
        "\n",
        "    results_dict={}\n",
        "    results_dict['stim_currents'] = np.array(stim_currents)\n",
        "    results_dict['spike_counts'] = np.array(spike_counts)\n",
        "    results_dict['spike_rates'] = np.array(spike_rates)\n",
        "    results_dict['v_before_spike1'] = np.array(v_before_spike1)\n",
        "    results_dict['v_before_stim'] = np.array(v_before_stim)\n",
        "    results_dict['fire_dur'] = np.array(fire_dur_max)\n",
        "    results_dict['isi_rates'] = np.array(isi_rates)\n",
        "    results_dict['spike_times'] = spike_times ## DO NOT MAKE ARRAY ?\n",
        "\n",
        "    return results_dict\n",
        ""
      ],
      "metadata": {
        "id": "bauaoZCjSCg9"
      },
      "execution_count": null,
      "outputs": []
    }
  ]
}