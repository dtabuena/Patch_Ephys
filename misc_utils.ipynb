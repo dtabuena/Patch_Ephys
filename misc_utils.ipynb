{
  "nbformat": 4,
  "nbformat_minor": 0,
  "metadata": {
    "colab": {
      "provenance": [],
      "authorship_tag": "ABX9TyNZKwlXbWLUo5eE0YgHEe9A",
      "include_colab_link": true
    },
    "kernelspec": {
      "name": "python3",
      "display_name": "Python 3"
    },
    "language_info": {
      "name": "python"
    }
  },
  "cells": [
    {
      "cell_type": "markdown",
      "metadata": {
        "id": "view-in-github",
        "colab_type": "text"
      },
      "source": [
        "<a href=\"https://colab.research.google.com/github/dtabuena/Patch_Ephys/blob/main/misc_utils.ipynb\" target=\"_parent\"><img src=\"https://colab.research.google.com/assets/colab-badge.svg\" alt=\"Open In Colab\"/></a>"
      ]
    },
    {
      "cell_type": "code",
      "execution_count": null,
      "metadata": {
        "id": "7EikLK0Mi-mw"
      },
      "outputs": [],
      "source": [
        "def protocol_baseline_and_stim(abf):\n",
        "    'Return two boolean arrays, distiguishing holding I/V and electrical stimuli'\n",
        "    # use command signal variance to determine stimulus periods\n",
        "    commands = []\n",
        "    for s in abf.sweepList:\n",
        "        abf.setSweep(sweepNumber=s)\n",
        "        commands.append(abf.sweepC)\n",
        "    commands = np.stack(commands)\n",
        "\n",
        "    std = np.std(commands, axis=0)\n",
        "    is_base = std==0\n",
        "    is_stim = np.logical_not(is_base)\n",
        "    return is_base, is_stim"
      ]
    }
  ]
}