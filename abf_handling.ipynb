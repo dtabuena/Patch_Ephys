{
  "nbformat": 4,
  "nbformat_minor": 0,
  "metadata": {
    "colab": {
      "provenance": [],
      "authorship_tag": "ABX9TyNxYZY4btxKS1v9kN0XUJLy",
      "include_colab_link": true
    },
    "kernelspec": {
      "name": "python3",
      "display_name": "Python 3"
    },
    "language_info": {
      "name": "python"
    }
  },
  "cells": [
    {
      "cell_type": "markdown",
      "metadata": {
        "id": "view-in-github",
        "colab_type": "text"
      },
      "source": [
        "<a href=\"https://colab.research.google.com/github/dtabuena/Patch_Ephys/blob/main/abf_handling.ipynb\" target=\"_parent\"><img src=\"https://colab.research.google.com/assets/colab-badge.svg\" alt=\"Open In Colab\"/></a>"
      ]
    },
    {
      "cell_type": "code",
      "execution_count": null,
      "metadata": {
        "id": "10xyALme4JAP"
      },
      "outputs": [],
      "source": [
        "\n",
        "\n",
        "\n",
        "\n",
        "def catalogue_recs(file_loc,cell_id_order):\n",
        "    'Read metadata from abf files stored in chosen folder and assigns'\n",
        "    'them to a dataframe for further processing. All further abf analyses'\n",
        "    'read files from this df and report values in the df.'\n",
        "\n",
        "    file_list = get_sub_files(file_loc)\n",
        "    # file_list = [file_loc+'/'+f for f in file_list]\n",
        "\n",
        "    file_list=[f for f in file_list if '.abf' in f]\n",
        "\n",
        "    abf_recordings_df = pd.DataFrame(data = file_list, columns=['file_name'])\n",
        "    abf_recordings_df = abf_recordings_df.set_index('file_name')\n",
        "\n",
        "    abf_recordings_df['Recording_name'] = None\n",
        "    abf_recordings_df['cell_id'] = None\n",
        "    for c in cell_id_order:\n",
        "        abf_recordings_df[c] = None\n",
        "\n",
        "    abf_recordings_df[\"protocol\"] = None\n",
        "    abf_recordings_df[\"abf_timestamp\"] = None\n",
        "    abf_recordings_df[\"channelList\"] = None\n",
        "\n",
        "\n",
        "    for r in np.arange(len(abf_recordings_df)):\n",
        "        try:\n",
        "            row_filename = abf_recordings_df.index[r]\n",
        "            if '.sta' in row_filename:\n",
        "                continue\n",
        "            base_name = os.path.basename(row_filename)\n",
        "            abf_recordings_df.loc[row_filename,'Recording_name'] = base_name\n",
        "            split_words = base_name.split('_')\n",
        "            re_code = ['_'+split_words[i] for i in range(len(cell_id_order))]\n",
        "            re_code = ''.join(re_code)[1:]\n",
        "            abf_recordings_df.loc[row_filename,'cell_id'] = re_code\n",
        "            for ci in range(len(cell_id_order)):\n",
        "                abf_recordings_df.loc[row_filename,cell_id_order[ci]] = split_words[ci]\n",
        "\n",
        "            abf = pyabf.ABF(row_filename)\n",
        "            abf_recordings_df.loc[row_filename,'protocol'] = abf.protocol\n",
        "            abf_recordings_df.at[row_filename,'channelList'] = abf.channelList\n",
        "            abf_recordings_df.at[row_filename,'abf_timestamp'] = abf.abfDateTimeString\n",
        "        except:\n",
        "            print(f'ERROR on :{row_filename}')\n",
        "    abf_recordings_df.sort_values('file_name',inplace=True)\n",
        "    protocol_set = list(set(abf_recordings_df['protocol']))\n",
        "    return abf_recordings_df, protocol_set\n",
        "\n"
      ]
    }
  ]
}