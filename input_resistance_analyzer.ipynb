{
  "nbformat": 4,
  "nbformat_minor": 0,
  "metadata": {
    "colab": {
      "name": "input_resistance_analyzer.ipynb",
      "provenance": [],
      "include_colab_link": true
    },
    "kernelspec": {
      "name": "python3",
      "display_name": "Python 3"
    },
    "language_info": {
      "name": "python"
    }
  },
  "cells": [
    {
      "cell_type": "markdown",
      "metadata": {
        "id": "view-in-github",
        "colab_type": "text"
      },
      "source": [
        "<a href=\"https://colab.research.google.com/github/dtabuena/Patch_Ephys/blob/main/input_resistance_analyzer.ipynb\" target=\"_parent\"><img src=\"https://colab.research.google.com/assets/colab-badge.svg\" alt=\"Open In Colab\"/></a>"
      ]
    },
    {
      "cell_type": "code",
      "source": [
        "import scipy as sci\n",
        "#  scipy.signal. import butter,filtfilt"
      ],
      "metadata": {
        "id": "jcbs328DvX7s"
      },
      "execution_count": null,
      "outputs": []
    },
    {
      "cell_type": "code",
      "execution_count": null,
      "metadata": {
        "id": "dKmR4hkRtwP8"
      },
      "outputs": [],
      "source": [
        "def input_resistance_analyzer(abf, dVm_limits = [-30, 10],to_plot=False,figopt={'type':'jpg','dpi':300}):\n",
        "    '''Calulates the series of delta Vs and delta Is and fits with a line to find the resistance.'''\n",
        "\n",
        "    results={}\n",
        "\n",
        "\n",
        "    stim_currents = []\n",
        "    ss_voltage = []\n",
        "    is_base, is_stim = protocol_baseline_and_stim(abf)\n",
        "    for s in abf.sweepList:\n",
        "        abf.setSweep(s)\n",
        "        delta_v, _, _ = sweep_VIR(abf.sweepY, abf.sampleRate, is_stim = is_stim)\n",
        "        delta_I, _, _    = sweep_VIR(abf.sweepC, abf.sampleRate, is_stim = is_stim) # repurpose but for command current\n",
        "        stim_currents.append( delta_I)\n",
        "        ss_voltage.append(delta_v)\n",
        "\n",
        "    stim_currents = np.array(stim_currents)\n",
        "    ss_voltage = np.array(ss_voltage)\n",
        "    vm_in_range = [(dV>=dVm_limits[0] and dV<=dVm_limits[1]) for dV in ss_voltage]\n",
        "\n",
        "    dI_to_fit = stim_currents[vm_in_range]\n",
        "    dV_to_fit = ss_voltage[vm_in_range]\n",
        "\n",
        "    inputR_fit = {}\n",
        "    slope, intercept , r_value, p_value, std_err = sci.stats.linregress(dI_to_fit, dV_to_fit)\n",
        "    Rsqr = r_value**2\n",
        "\n",
        "    dV_hat = dI_to_fit*slope+intercept\n",
        "\n",
        "    fit_err = (dV_hat - dV_to_fit)**2\n",
        "    std = np.std(fit_err)\n",
        "    z_err = fit_err/std\n",
        "    outlier = z_err > 3\n",
        "\n",
        "    if np.any(outlier):\n",
        "        dI_to_fit = dI_to_fit[np.logical_not(outlier)]\n",
        "        dV_to_fit = dV_to_fit[np.logical_not(outlier)]\n",
        "        slope, intercept , r_value, p_value, std_err = sci.stats.linregress(dI_to_fit, dV_to_fit)\n",
        "        Rsqr = r_value**2\n",
        "        dV_hat = dI_to_fit*slope+intercept\n",
        "\n",
        "    if to_plot:\n",
        "        fig,ax = plt.subplots(1,1,figsize=(1.5,1.5))\n",
        "        ax.scatter(stim_currents, ss_voltage)\n",
        "        ax.scatter(dI_to_fit, dV_to_fit,color='red')\n",
        "        ax.plot( dI_to_fit, dV_hat )\n",
        "        ax.set_xlabel('Current (pA)')\n",
        "        ax.set_ylabel('Delta V (mV)')\n",
        "        # plt.show()\n",
        "        try:    os.makedirs('Saved_Figs/Input_Resitance/')\n",
        "        except:     None\n",
        "        fig.savefig( 'Saved_Figs/Input_Resitance/Input_Resitance_' + abf.abfID +'.'+figopt['type'],dpi=figopt['dpi'])\n",
        "\n",
        "\n",
        "    results['Input_Resistance_MO'] = slope*1E9*1E-6   # to ohms to megaohms\n",
        "    results['Rin_Rsqr'] = Rsqr\n",
        "\n",
        "    return results\n",
        "\n",
        "def sweep_VIR(trace,rate,is_stim = None, window_t=0.100):\n",
        "    '''Takes a trace and calulates the steady state delta V from a stimulus in Current Clamp'''\n",
        "    if any(is_stim == None):\n",
        "        is_stim = [True for i in trace]\n",
        "    base_v = trace[:np.where(is_stim==True)[0][0]]\n",
        "    cutoff = 5\n",
        "    nyq = rate/2\n",
        "    normal_cutoff = cutoff / nyq\n",
        "    b, a = sci.signal.butter(3, normal_cutoff, btype='low')\n",
        "    filtered_step_v = sci.signal.filtfilt(b, a, trace[is_stim])\n",
        "    window_wid = int(window_t*rate)\n",
        "    med_base_v = np.median(base_v[-window_wid:-1])\n",
        "    med_stim_v = np.median(filtered_step_v[-window_wid:-1])\n",
        "    delta_v = med_stim_v - med_base_v\n",
        "    return delta_v, med_base_v, med_stim_v\n",
        "\n",
        "\n",
        "\n",
        "# fn = 'my_ephys_data/2022_08_16/2022x08x16_RNF182_E4KI_F_P255_s004_c007_CA3xPOS_0007.abf'\n",
        "# abf = abf_or_name(fn)\n",
        "# input_resistance_analyzer(abf,to_plot=True)"
      ]
    }
  ]
}