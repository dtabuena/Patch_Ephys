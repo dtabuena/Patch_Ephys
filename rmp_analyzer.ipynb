{
  "nbformat": 4,
  "nbformat_minor": 0,
  "metadata": {
    "colab": {
      "name": "Vm_analyzer.ipynb",
      "provenance": [],
      "include_colab_link": true
    },
    "kernelspec": {
      "name": "python3",
      "display_name": "Python 3"
    },
    "language_info": {
      "name": "python"
    }
  },
  "cells": [
    {
      "cell_type": "markdown",
      "metadata": {
        "id": "view-in-github",
        "colab_type": "text"
      },
      "source": [
        "<a href=\"https://colab.research.google.com/github/dtabuena/Patch_Ephys/blob/main/rmp_analyzer.ipynb\" target=\"_parent\"><img src=\"https://colab.research.google.com/assets/colab-badge.svg\" alt=\"Open In Colab\"/></a>"
      ]
    },
    {
      "cell_type": "code",
      "execution_count": null,
      "metadata": {
        "id": "27h8jZULvYeF"
      },
      "outputs": [],
      "source": [
        "def rmp_analyzer(abf,to_plot=False,figopt={'type':'jpg','dpi':300}):\n",
        "\n",
        "    if 'mv' not in abf.adcUnits[0]:\n",
        "        return results\n",
        "    results = {}\n",
        "    abf.setSweep(0,0)\n",
        "    command = abf.sweepC[:abf.sweepRate*3]\n",
        "    vm = abf.sweepY[:abf.sweepRate*3]\n",
        "    abf.setSweep(0,1)\n",
        "    command_ch2 = abf.sweepY[:abf.sweepRate*3]\n",
        "    if to_plot:\n",
        "        fig, ax = plt.subplots(1,2,figsize=(2,1))\n",
        "        ax[0].hist(command,20)\n",
        "        ax[0].hist(command_ch2,20)\n",
        "        ax[0].set_xlabel('Command Current (pA)')\n",
        "        ax[1].hist(vm,20)\n",
        "        ax[1].set_xlabel('Membrane Pot (mv)')\n",
        "        os.makedirs('Saved_Figs/Resting_VM/', exist_ok=True)\n",
        "        fig.savefig( 'Saved_Figs/Resting_VM/Resting_VM_' + abf.abfID +'.'+figopt['type'],dpi=figopt['dpi'])\n",
        "        plt.show()\n",
        "    mean_rmp = np.mean(vm)\n",
        "    mean_command = np.mean(command_ch2)\n",
        "    if abs(mean_command)<15:\n",
        "        results = {'Rmp_mV': mean_rmp}\n",
        "    return results\n",
        "\n",
        "\n",
        "# abf =abf_or_name('/content/my_ephys_data/2022_08_17/2022x08x17_RNF182_E4KI_F_P256_s001_c005_CA3xNEG_0000.abf')\n",
        "# rmp_analyzer(abf,to_plot=True,dpi=100)"
      ]
    }
  ]
}