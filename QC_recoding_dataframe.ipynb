{
  "nbformat": 4,
  "nbformat_minor": 0,
  "metadata": {
    "colab": {
      "name": "QC_recoding_dataframe.ipynb",
      "provenance": [],
      "authorship_tag": "ABX9TyM3KrB/6sjs91wMCxuagTTj",
      "include_colab_link": true
    },
    "kernelspec": {
      "name": "python3",
      "display_name": "Python 3"
    },
    "language_info": {
      "name": "python"
    }
  },
  "cells": [
    {
      "cell_type": "markdown",
      "metadata": {
        "id": "view-in-github",
        "colab_type": "text"
      },
      "source": [
        "<a href=\"https://colab.research.google.com/github/dtabuena/EphysLib/blob/main/QC_recoding_dataframe.ipynb\" target=\"_parent\"><img src=\"https://colab.research.google.com/assets/colab-badge.svg\" alt=\"Open In Colab\"/></a>"
      ]
    },
    {
      "cell_type": "code",
      "execution_count": null,
      "metadata": {
        "id": "bIfkgcVLJ089"
      },
      "outputs": [],
      "source": [
        "\n",
        "\n",
        "\n",
        "def purge_wrong_clamp(abf_recordings_df,VC_prot,IC_prot,verbose=False, to_plot=False):\n",
        "    VC_match_list, IC_match_list = search_wrong_clamp(abf_recordings_df,VC_prot,IC_prot)\n",
        "    both_good = [VC_match_list[i] and IC_match_list[i] for i in range(len(IC_match_list))]\n",
        "    abf_recordings_df_purge = abf_recordings_df[both_good]\n",
        "    both_bad = [not(a) for a in both_good]\n",
        "    \n",
        "    bad_file_names = abf_recordings_df.index[both_bad]\n",
        "    if verbose:\n",
        "        print('Bad files:')\n",
        "        _ = [print('     ',f) for f in bad_file_names]\n",
        "    if to_plot:\n",
        "        for f in bad_file_names:\n",
        "            plot_sweeps_and_command(f)\n",
        "\n",
        "    return abf_recordings_df_purge, bad_file_names\n",
        "\n",
        "def search_wrong_clamp(abf_recordings_df,VC_prot,IC_prot):\n",
        "    'takes a df with an index of filename and checks for correct clamping'\n",
        "    VC_match_list = []\n",
        "    IC_match_list = []\n",
        "    for f in abf_recordings_df.index:\n",
        "        is_VC = clamp_check(f)['is_VC']\n",
        "        is_VC_prot = abf_recordings_df.loc[f,'protocol'] in VC_prot\n",
        "        VC_match_list.append(is_VC == is_VC_prot)\n",
        "\n",
        "        is_IC = clamp_check(f)['is_VC']\n",
        "        is_IC_prot = abf_recordings_df.loc[f,'protocol'] in IC_prot\n",
        "        IC_match_list.append(is_IC == is_VC_prot)\n",
        "    return VC_match_list, IC_match_list\n",
        "\n",
        "\n",
        "\n",
        "def clamp_check(abf):\n",
        "    is_IC = False\n",
        "    is_VC = False\n",
        "    try:\n",
        "        abf = abf_or_name(abf)\n",
        "        if 'mV' in abf.sweepLabelY:\n",
        "            is_IC = True\n",
        "            is_VC = False\n",
        "        if 'pA' in abf.sweepLabelY:\n",
        "            is_IC = False\n",
        "            is_VC = True\n",
        "    except: \n",
        "        print('Clamp check error', abf)\n",
        "    return {'is_IC': is_IC, 'is_VC': is_VC}"
      ]
    }
  ]
}