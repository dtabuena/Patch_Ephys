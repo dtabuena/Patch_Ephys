{
  "nbformat": 4,
  "nbformat_minor": 0,
  "metadata": {
    "colab": {
      "provenance": [],
      "include_colab_link": true
    },
    "kernelspec": {
      "name": "python3",
      "display_name": "Python 3"
    },
    "language_info": {
      "name": "python"
    }
  },
  "cells": [
    {
      "cell_type": "markdown",
      "metadata": {
        "id": "view-in-github",
        "colab_type": "text"
      },
      "source": [
        "<a href=\"https://colab.research.google.com/github/dtabuena/Patch_Ephys/blob/main/Refactor/Analyze_Recs.ipynb\" target=\"_parent\"><img src=\"https://colab.research.google.com/assets/colab-badge.svg\" alt=\"Open In Colab\"/></a>"
      ]
    },
    {
      "cell_type": "code",
      "source": [
        "'Get Standard Modules'\n",
        "\n",
        "import pandas as pd\n",
        "import numpy as np\n",
        "import matplotlib\n",
        "import pyabf\n",
        "import matplotlib.pyplot as plt\n",
        "import scipy\n",
        "from scipy import stats\n",
        "import os\n",
        "from scipy.signal import butter,filtfilt\n",
        "from tqdm import tqdm\n",
        "import warnings\n",
        "from IPython.display import clear_output\n",
        "from datetime import datetime\n",
        "import sys\n",
        "import warnings\n",
        "import shutil\n",
        "import urllib.request\n",
        "import sklearn as skl\n",
        "import sklearn.mixture as skl_mixture\n",
        "import seaborn as sns\n",
        "# warnings.filterwarnings('ignore')\n",
        "# np.set_printoptions(threshold=sys.maxsize)\n",
        "# clear_output(wait=False)\n",
        "\n",
        "\n",
        "!pip install openpyxl\n",
        "!pip install XlsxWriter"
      ],
      "metadata": {
        "id": "AV0cPU5qPIxB",
        "colab": {
          "base_uri": "https://localhost:8080/"
        },
        "outputId": "af555869-1294-45ba-d6ac-d6c46141b678"
      },
      "execution_count": 25,
      "outputs": [
        {
          "output_type": "stream",
          "name": "stdout",
          "text": [
            "Requirement already satisfied: openpyxl in c:\\users\\dennis.tabuena\\appdata\\local\\anaconda3\\envs\\notebook\\lib\\site-packages (3.1.2)\n",
            "Requirement already satisfied: et-xmlfile in c:\\users\\dennis.tabuena\\appdata\\local\\anaconda3\\envs\\notebook\\lib\\site-packages (from openpyxl) (1.1.0)\n",
            "Requirement already satisfied: XlsxWriter in c:\\users\\dennis.tabuena\\appdata\\local\\anaconda3\\envs\\notebook\\lib\\site-packages (3.2.0)\n"
          ]
        }
      ]
    },
    {
      "cell_type": "code",
      "execution_count": 141,
      "metadata": {
        "id": "_KP8ILeu07BW",
        "colab": {
          "base_uri": "https://localhost:8080/"
        },
        "outputId": "ae723b01-6b9b-49c7-dadc-80b97623ff2f"
      },
      "outputs": [
        {
          "output_type": "stream",
          "name": "stdout",
          "text": [
            "basic_ephys loaded succesfully\n",
            "loaded: Basic_Ephys.ipynb\n",
            "loaded: QC_recoding_dataframe.ipynb\n",
            "loaded: input_resistance_analyzer.ipynb\n",
            "loaded: gain_analyzer.ipynb\n",
            "loaded: latencey_analyzer.ipynb\n",
            "loaded: IV_analyzer.ipynb\n",
            "loaded: Vm_analyzer.ipynb\n",
            "loaded: membrane_analyzer.ipynb\n",
            "loaded: Ephys_wrapper.ipynb\n",
            "loaded: rheobase_analyzer.ipynb\n",
            "loaded: init_func_arg_dicts.ipynb\n"
          ]
        }
      ],
      "source": [
        "'''Get Repositories'''\n",
        "\"run dtabuena's ephys notebooks\"\n",
        "to_import = [\n",
        "            # 'ABF_Quality_Control.ipynb',\n",
        "            'Basic_Ephys.ipynb',\n",
        "            # 'Simple_ABF_tools.ipynb',\n",
        "            # 'fun_math.ipynb',\n",
        "            # 'importing_abfs_from_dropbox.ipynb',\n",
        "            'QC_recoding_dataframe.ipynb',\n",
        "            'input_resistance_analyzer.ipynb',\n",
        "            'gain_analyzer.ipynb',\n",
        "            'latencey_analyzer.ipynb',\n",
        "            'IV_analyzer.ipynb',\n",
        "            'Vm_analyzer.ipynb',\n",
        "            'membrane_analyzer.ipynb',\n",
        "            'Ephys_wrapper.ipynb',\n",
        "            'rheobase_analyzer.ipynb',\n",
        "            'init_func_arg_dicts.ipynb',\n",
        "            ]\n",
        "\n",
        "\n",
        "\n",
        "parent_folder = r\"C:\\Users\\dennis.tabuena\\Gladstone Dropbox\\Dennis Tabuena\\4_Methods\\_Patch_Refactor\"\n",
        "os.chdir(parent_folder)\n",
        "\n",
        "code_dir = 'git_code'\n",
        "os.makedirs(code_dir,exist_ok=True)\n",
        "os.chdir(code_dir)\n",
        "\n",
        "for f in to_import:\n",
        "    try:\n",
        "        git_link = 'https://raw.githubusercontent.com/dtabuena/Patch_Ephys/main/'+f\n",
        "        # print(git_link)\n",
        "        urllib.request.urlretrieve(git_link,f)\n",
        "        %run $f\n",
        "        print('loaded:',f)\n",
        "    except:\n",
        "        print('FAILED:',f)\n",
        "\n",
        "\n",
        "# import urllib\n",
        "# response = urllib.request.urlretrieve('https://raw.githubusercontent.com/dtabuena/Resources/main/Matplotlib_Config/Load_FS6.py','Load_FS6.py')\n",
        "# %run Load_FS6.py"
      ]
    },
    {
      "cell_type": "code",
      "source": [
        "def init_func_arg_dicts():\n",
        "    func_dict = {}\n",
        "    arg_dict = {}\n",
        "\n",
        "    # Spike arg defentitions\n",
        "    spike_args_gain={'spike_thresh':10, 'high_dv_thresh': 20,'low_dv_thresh': -5,'window_ms': 3}\n",
        "    spike_args_rheo ={'spike_thresh':15, 'high_dv_thresh': 30,'low_dv_thresh': -15,'window_ms': 2}\n",
        "\n",
        "\n",
        "\n",
        "    func_dict['VC - 3min GapFree']= rmp_analyzer\n",
        "    arg_dict['VC - 3min GapFree'] = [True] # [to_plot?]\n",
        "\n",
        "    func_dict['I0 - 3min GapFree']= rmp_analyzer\n",
        "    arg_dict['I0 - 3min GapFree'] = [True] # [to_plot?]\n",
        "\n",
        "    func_dict['IC - Rheobase']= rheobase_analyzer\n",
        "    arg_dict['IC - Rheobase'] = [spike_args_rheo, True, False, False]  # [spike_args, to_plot, verbose, force_singlespike]\n",
        "\n",
        "    func_dict['IC - Gain - D10pA']= gain_analyzer\n",
        "    arg_dict['IC - Gain - D10pA']= [spike_args_gain, 1, 4, .7,[-60,-80]]  # [spike_args, to_plot [0:2], max_fit_steps, rel_slope_cut, Vh_hilo]\n",
        "\n",
        "    func_dict['IC - Gain - D20pA']= gain_analyzer\n",
        "    arg_dict['IC - Gain - D20pA']= [spike_args_gain, 1, 4, .7,[-60,-80]]  # [spike_args, to_plot [0:2], max_fit_steps, rel_slope_cut, Vh_hilo]\n",
        "\n",
        "    func_dict['IC - Gain - D25pA']= gain_analyzer\n",
        "    arg_dict['IC - Gain - D25pA']= [spike_args_gain, 1, 4, .7,[-60,-80]]  # [spike_args, to_plot [0:2], max_fit_steps, rel_slope_cut, Vh_hilo]\n",
        "\n",
        "    func_dict['IC - Gain - D50pA']= func_dict['IC - Gain - D20pA']\n",
        "    arg_dict['IC - Gain - D50pA']= arg_dict['IC - Gain - D20pA']\n",
        "\n",
        "    func_dict['VC - MemTest-10ms-160ms']= membrane_analyzer\n",
        "    arg_dict['VC - MemTest-10ms-160ms']= [True, False, ['Ra', 'Rm', 'Cm', 'tau',\t'Cmq',\t'Cmf',\t'Cmqf', 'Cm_pc']]  # [to_plot, verbose]\n",
        "\n",
        "    func_dict['IC - Latentcy 800pA-1s']= latencey_analyzer\n",
        "    arg_dict['IC - Latentcy 800pA-1s']= [spike_args_gain, True]  # [spike_args, to_plot]\n",
        "\n",
        "    func_dict['IC - R input']= input_resistance_analyzer\n",
        "    arg_dict['IC - R input']= [[-30, 10] ,True]  # [dVm_limits, to_plot]\n",
        "\n",
        "    # func_dict['VC - Multi IV - 150ms'] = IV_analyzer_v2\n",
        "    # arg_dict['VC - Multi IV - 150ms']= [{'IV_Early':(4.5, 30),'IV_Steady_State':(70,80)} ,[False, True]]  # [measure_windows, to_plot]\n",
        "\n",
        "    func_dict['VC - Multi IV - 150ms'] = IV_analyzer_v3\n",
        "    arg_dict['VC - Multi IV - 150ms']= [[.2, 3],(40,50),True,]  # [Na_window,K_window, to_plot]\n",
        "\n",
        "    return func_dict, arg_dict\n",
        "\n"
      ],
      "metadata": {
        "id": "_kk9-AHD2Sd4"
      },
      "execution_count": 158,
      "outputs": []
    },
    {
      "cell_type": "code",
      "source": [
        "##### Setup Protocol List\n",
        "VC_prot = ['VC - MemTest-10ms-160ms',\n",
        "           'VC - Multi IV - 150ms',]\n",
        "IC_prot = ['IC - Gain - D10pA',\n",
        "           'IC - Gain - D20pA',\n",
        "           'IC - Gain - D50pA',\n",
        "           'IC - Rheobase',\n",
        "           'IC - R input',\n",
        "           'IC - Latentcy 800pA-1s'\n",
        "           'VC - 3min GapFree',\n",
        "           'I0 - 3min GapFree']\n",
        "\n",
        "\n",
        "# dataset = {'data_name': 'test_data',\n",
        "#            'data_source': r\"C:\\Users\\dennis.tabuena\\Gladstone Dropbox\\Dennis Tabuena\\4_Methods\\_Patch_Refactor\\test_data\",\n",
        "#            'file_naming_scheme': ['Rec_date','geno','sex','age','orientation','slice','cell','type'],\n",
        "#            }\n",
        "\n",
        "dataset = {'data_name': 'test_data',\n",
        "           'data_source': r\"C:\\Users\\dennis.tabuena\\Gladstone Dropbox\\Dennis Tabuena\\4_Methods\\_Patch_Refactor\\test_data\",\n",
        "           'file_naming_scheme': ['year','month','day'],\n",
        "           }\n",
        "\n",
        "analysis_dir =os.path.join(parent_folder,dataset['data_name'])\n",
        "os.makedirs(analysis_dir,exist_ok=True)\n",
        "os.chdir(analysis_dir)\n",
        "print(os.getcwd())\n"
      ],
      "metadata": {
        "id": "im0sAJx5W7EY",
        "colab": {
          "base_uri": "https://localhost:8080/"
        },
        "outputId": "0438f6cc-b5b2-4f13-b34f-7ea1200b424d"
      },
      "execution_count": 145,
      "outputs": [
        {
          "output_type": "stream",
          "name": "stdout",
          "text": [
            "C:\\Users\\dennis.tabuena\\Gladstone Dropbox\\Dennis Tabuena\\4_Methods\\_Patch_Refactor\\test_data\n"
          ]
        }
      ]
    },
    {
      "cell_type": "code",
      "source": [
        "\"\"\"\n",
        "New function to analyze using itterator.\n",
        "BUT store results from each protocol in different dict\n",
        "\"\"\""
      ],
      "metadata": {
        "id": "3iEfPmz5PPGg",
        "colab": {
          "base_uri": "https://localhost:8080/"
        },
        "outputId": "c96ac10d-b68b-4e5b-f8ea-931100909cc1"
      },
      "execution_count": 146,
      "outputs": [
        {
          "output_type": "execute_result",
          "data": {
            "text/plain": [
              "'\\nNew function to analyze using itterator.\\nBUT store results from each protocol in different dict\\n'"
            ]
          },
          "metadata": {},
          "execution_count": 146
        }
      ]
    },
    {
      "cell_type": "code",
      "source": [
        "\"\"\"\n",
        "Scripted Run\n",
        "(unwraped 'ephys wrapper')\n",
        "\"\"\"\n",
        "# init Output\n",
        "results = {}\n",
        "\n",
        "\n",
        "'''Build Basic DF'''\n",
        "abf_recordings_df, protocol_set = catalogue_recs(dataset['data_source'],dataset['file_naming_scheme'])\n",
        "results['abf_recordings_df'] = abf_recordings_df\n",
        "results['protocol_set'] = protocol_set\n",
        "\n",
        "'''# Protocol Look Up Table'''\n",
        "csv_name = cell_prot_lut(abf_recordings_df,protocol_set,csv_name=dataset['data_name']+'_Recording_LookUp')\n",
        "results['prot_lut'] = csv_name\n",
        "\n",
        "\n",
        "func_dict, arg_dict = init_func_arg_dicts()\n",
        "\n",
        "'''Protocol Look Up Table'''\n",
        "abf_recordings_df, problem_recs = analysis_iterator(abf_recordings_df,func_dict,arg_dict,verbose=True)\n",
        "clear_output()\n",
        "display(abf_recordings_df.head(3))\n",
        "abf_recordings_df.to_csv('abf_recordings_df.csv')\n",
        "\n",
        "'''Sort Cells'''\n",
        "cell_df = cell_sorting(abf_recordings_df)\n",
        "results['cell_df'] = cell_df\n",
        "display(cell_df.head(3))\n",
        "cell_df.to_csv('cell_df.csv')"
      ],
      "metadata": {
        "id": "VL-1pLcQVA6I",
        "colab": {
          "base_uri": "https://localhost:8080/",
          "height": 1000
        },
        "outputId": "13e325fd-f6ec-48bf-ac02-95bf356abe11"
      },
      "execution_count": 162,
      "outputs": [
        {
          "output_type": "stream",
          "name": "stderr",
          "text": [
            "\r  0%|                                                                                          | 0/150 [00:00<?, ?it/s]C:\\Users\\dennis.tabuena\\AppData\\Local\\Temp\\ipykernel_92308\\3525335379.py:94: RuntimeWarning: divide by zero encountered in divide\n",
            "  sweep_var = abs((matching_traces-mean_trace)/mean_trace)\n"
          ]
        },
        {
          "output_type": "stream",
          "name": "stdout",
          "text": [
            "\n",
            "       C:\\Users\\dennis.tabuena\\Gladstone Dropbox\\Dennis Tabuena\\4_Methods\\_Patch_Refactor\\test_data\\5XFAD data For Misha\\2025-06-23-WT\\cell1\\2025_06_23_0000MemTest.abf\n",
            "      VC - MemTest-10ms-160ms\n",
            "reset sweep\n"
          ]
        },
        {
          "output_type": "display_data",
          "data": {
            "text/plain": [
              "<Figure size 400x150 with 2 Axes>"
            ],
            "image/png": "[encoded data removed]"
          },
          "metadata": {}
        },
        {
          "output_type": "stream",
          "name": "stderr",
          "text": [
            "\r  1%|▌                                                                                 | 1/150 [00:00<01:31,  1.62it/s]C:\\Users\\dennis.tabuena\\AppData\\Local\\Temp\\ipykernel_92308\\1710904177.py:7: RuntimeWarning: invalid value encountered in scalar divide\n",
            "  if abs((np.var(desired_command)-np.var(desired_command))/np.var(desired_command)) > error_thresh:\n",
            "C:\\Users\\dennis.tabuena\\AppData\\Local\\Temp\\ipykernel_92308\\1710904177.py:11: RuntimeWarning: invalid value encountered in scalar divide\n",
            "  if abs((np.mean(desired_command)-np.mean(desired_command))/np.mean(desired_command)) > error_thresh:\n"
          ]
        },
        {
          "output_type": "stream",
          "name": "stdout",
          "text": [
            "\n",
            "       C:\\Users\\dennis.tabuena\\Gladstone Dropbox\\Dennis Tabuena\\4_Methods\\_Patch_Refactor\\test_data\\5XFAD data For Misha\\2025-06-23-WT\\cell1\\2025_06_23_0001RMP.abf\n",
            "      I0 - 3min GapFree\n",
            "reset sweep\n"
          ]
        },
        {
          "output_type": "display_data",
          "data": {
            "text/plain": [
              "<Figure size 640x480 with 0 Axes>"
            ]
          },
          "metadata": {}
        },
        {
          "output_type": "display_data",
          "data": {
            "text/plain": [
              "<Figure size 400x150 with 2 Axes>"
            ],
            "image/png": "[encoded data removed]"
          },
          "metadata": {}
        },
        {
          "output_type": "display_data",
          "data": {
            "text/plain": [
              "<Figure size 640x480 with 2 Axes>"
            ],
            "image/png": "[encoded data removed]"
          },
          "metadata": {}
        },
        {
          "output_type": "stream",
          "name": "stderr",
          "text": [
            "  1%|█                                                                                 | 2/150 [00:01<01:27,  1.68it/s]"
          ]
        },
        {
          "output_type": "stream",
          "name": "stdout",
          "text": [
            "\n",
            "       C:\\Users\\dennis.tabuena\\Gladstone Dropbox\\Dennis Tabuena\\4_Methods\\_Patch_Refactor\\test_data\\5XFAD data For Misha\\2025-06-23-WT\\cell1\\2025_06_23_0002VC-IV.abf\n",
            "      VC - Multi IV - 150ms\n",
            "reset sweep\n"
          ]
        },
        {
          "output_type": "stream",
          "name": "stderr",
          "text": [
            "\n"
          ]
        },
        {
          "output_type": "error",
          "ename": "TypeError",
          "evalue": "'tuple' object does not support item assignment",
          "traceback": [
            "\u001b[1;31m---------------------------------------------------------------------------\u001b[0m",
            "\u001b[1;31mTypeError\u001b[0m                                 Traceback (most recent call last)",
            "Cell \u001b[1;32mIn[162], line 22\u001b[0m\n\u001b[0;32m     19\u001b[0m func_dict, arg_dict \u001b[38;5;241m=\u001b[39m init_func_arg_dicts()\n\u001b[0;32m     21\u001b[0m \u001b[38;5;124;03m'''Protocol Look Up Table'''\u001b[39;00m\n\u001b[1;32m---> 22\u001b[0m abf_recordings_df, problem_recs \u001b[38;5;241m=\u001b[39m analysis_iterator(abf_recordings_df,func_dict,arg_dict,verbose\u001b[38;5;241m=\u001b[39m\u001b[38;5;28;01mTrue\u001b[39;00m)\n\u001b[0;32m     23\u001b[0m clear_output()\n\u001b[0;32m     24\u001b[0m display(abf_recordings_df\u001b[38;5;241m.\u001b[39mhead(\u001b[38;5;241m3\u001b[39m))\n",
            "File \u001b[1;32m~\\AppData\\Local\\Temp\\ipykernel_92308\\810951845.py:29\u001b[0m, in \u001b[0;36manalysis_iterator\u001b[1;34m(abf_recordings_df, func_dict, arg_dict, verbose)\u001b[0m\n\u001b[0;32m     27\u001b[0m args_for_analyzer \u001b[38;5;241m=\u001b[39m  [abf] \u001b[38;5;241m+\u001b[39m arg_dict[prot_name] \u001b[38;5;66;03m# get args for analyzer from dict\u001b[39;00m\n\u001b[0;32m     28\u001b[0m \u001b[38;5;66;03m# try:\u001b[39;00m\n\u001b[1;32m---> 29\u001b[0m results \u001b[38;5;241m=\u001b[39m analyzer_func(\u001b[38;5;241m*\u001b[39margs_for_analyzer) \u001b[38;5;66;03m# run analyzer\u001b[39;00m\n\u001b[0;32m     30\u001b[0m \u001b[38;5;66;03m# except:\u001b[39;00m\n\u001b[0;32m     31\u001b[0m \u001b[38;5;66;03m#     print('\\n','error on: ' ,file_name)\u001b[39;00m\n\u001b[0;32m     32\u001b[0m \u001b[38;5;66;03m#     print('analysis failed')\u001b[39;00m\n\u001b[0;32m     33\u001b[0m \u001b[38;5;28;01mtry\u001b[39;00m:\n",
            "Cell \u001b[1;32mIn[161], line 28\u001b[0m, in \u001b[0;36mIV_analyzer_v3\u001b[1;34m(abf, Na_window, K_window, to_plot)\u001b[0m\n\u001b[0;32m     26\u001b[0m is_base, is_stim \u001b[38;5;241m=\u001b[39m protocol_baseline_and_stim(abf)\n\u001b[0;32m     27\u001b[0m t0_relative \u001b[38;5;241m=\u001b[39m np\u001b[38;5;241m.\u001b[39mwhere(is_stim)[\u001b[38;5;241m0\u001b[39m][\u001b[38;5;241m0\u001b[39m]\n\u001b[1;32m---> 28\u001b[0m Na_window[\u001b[38;5;241m0\u001b[39m] \u001b[38;5;241m+\u001b[39m\u001b[38;5;241m=\u001b[39m t0_relative\n\u001b[0;32m     29\u001b[0m Na_window[\u001b[38;5;241m1\u001b[39m] \u001b[38;5;241m+\u001b[39m\u001b[38;5;241m=\u001b[39m t0_relative\n\u001b[0;32m     30\u001b[0m K_window[\u001b[38;5;241m1\u001b[39m] \u001b[38;5;241m+\u001b[39m\u001b[38;5;241m=\u001b[39m t0_relative\n",
            "\u001b[1;31mTypeError\u001b[0m: 'tuple' object does not support item assignment"
          ]
        }
      ]
    },
    {
      "cell_type": "code",
      "source": [
        "func_dict['IC - R input']= input_resistance_analyzer\n",
        "arg_dict['IC - R input']= [[-30, 10] ,True]  # [dVm_limits, to_plot]"
      ],
      "metadata": {
        "id": "qR_W5Q6LE4Uk"
      },
      "execution_count": null,
      "outputs": []
    },
    {
      "cell_type": "code",
      "source": [
        "\n",
        "fast_results = ephys_wrapper_local(dataset,VC_prot,IC_prot,strat_cols=['day'])"
      ],
      "metadata": {
        "id": "eWeEJGT3NHdB"
      },
      "execution_count": null,
      "outputs": []
    },
    {
      "cell_type": "code",
      "source": [],
      "metadata": {
        "id": "Zlzq9ocUU1fw"
      },
      "execution_count": null,
      "outputs": []
    },
    {
      "cell_type": "code",
      "source": [
        "print(os.getcwd().replace('\\\\','/'))"
      ],
      "metadata": {
        "colab": {
          "base_uri": "https://localhost:8080/"
        },
        "id": "n_pJS-NUd8ML",
        "outputId": "93e83eed-9b31-4371-fbd9-b777134566be"
      },
      "execution_count": null,
      "outputs": [
        {
          "output_type": "stream",
          "name": "stdout",
          "text": [
            "C:/Users/dennis.tabuena/Desktop/Test_Folder/git_code\n"
          ]
        }
      ]
    },
    {
      "cell_type": "code",
      "source": [
        "# fast_results = substitute_gain_rheobase(fast_results,\n",
        "#                                        strat_cols=['Genotype','Age_Bin','Cell_Type'],\n",
        "#                                        age_bin_dict=age_bin_dict)\n"
      ],
      "metadata": {
        "id": "MqYqh8Esdr6Z"
      },
      "execution_count": null,
      "outputs": []
    },
    {
      "cell_type": "code",
      "source": [
        "f = fast_results"
      ],
      "metadata": {
        "id": "87zsYSUxyN_i"
      },
      "execution_count": null,
      "outputs": []
    },
    {
      "cell_type": "code",
      "source": [
        "\n",
        "single_val_strat_groups = ['ap_amplitutude',\n",
        "                            'Rmp_mV',\n",
        "                            'Cmq_160.0',\n",
        "                            'Ra_160.0',\n",
        "                            'Rm_160.0',\n",
        "                            'Gain_(HzpA)',\n",
        "                            'inact_current_pA',\n",
        "                            'Rheobase',\n",
        "                            'AP_thresh_US',\n",
        "                            'fast_after_hyperpol',\n",
        "                            'Spike_latency_(ms)',\n",
        "                            'Input_Resistance_MO',\n",
        "                            ]\n",
        "\n",
        "\n",
        "manual_exclusions = ['']\n",
        "exclusion_overide = ['']\n",
        "file_naming_scheme = dataset['file_naming_scheme']\n",
        "strat_df_dict = fast_results['strat_df_dict'].copy()\n",
        "strat_df_dict = {k:strat_df_dict[k] for k in my_order}\n",
        "filtered_dict, fail_dict = final_qc(strat_df_dict,file_naming_scheme,qc_Rmp=-35,qc_AP_amp=20,qc_RR=.20,qc_Ra=np.inf,manual_exclusions=manual_exclusions,exclusion_overide=exclusion_overide)\n",
        "alt_strat_dict = restratify_results(filtered_dict,file_naming_scheme,single_val_strat_groups)\n",
        "\n",
        "resp_curve_list = ['IV_Early_(V_stim)','IV_Early_(I_peak)','IV_Steady_State_(I_mean)','Stim_Levels_(pA)','Spike_Counts']\n",
        "response_curve_data = stratify_response_curve(filtered_dict,resp_curve_list,strat_list=[''])\n",
        "alt_strat_dict.update(response_curve_data)\n",
        "write_strat_dfs_local(alt_strat_dict, dataset['data_name']+'_results_stratified_alternate')\n",
        "print(os.getcwd())\n"
      ],
      "metadata": {
        "id": "SpeFrwv9jbqq",
        "colab": {
          "base_uri": "https://localhost:8080/",
          "height": 260
        },
        "outputId": "0ebb3049-6c70-4050-aeea-0a88634864aa"
      },
      "execution_count": 43,
      "outputs": [
        {
          "output_type": "error",
          "ename": "NameError",
          "evalue": "name 'fast_results' is not defined",
          "traceback": [
            "\u001b[1;31m---------------------------------------------------------------------------\u001b[0m",
            "\u001b[1;31mNameError\u001b[0m                                 Traceback (most recent call last)",
            "Cell \u001b[1;32mIn[43], line 19\u001b[0m\n\u001b[0;32m     17\u001b[0m exclusion_overide \u001b[38;5;241m=\u001b[39m [\u001b[38;5;124m'\u001b[39m\u001b[38;5;124m'\u001b[39m]\n\u001b[0;32m     18\u001b[0m file_naming_scheme \u001b[38;5;241m=\u001b[39m dataset[\u001b[38;5;124m'\u001b[39m\u001b[38;5;124mfile_naming_scheme\u001b[39m\u001b[38;5;124m'\u001b[39m]\n\u001b[1;32m---> 19\u001b[0m strat_df_dict \u001b[38;5;241m=\u001b[39m fast_results[\u001b[38;5;124m'\u001b[39m\u001b[38;5;124mstrat_df_dict\u001b[39m\u001b[38;5;124m'\u001b[39m]\u001b[38;5;241m.\u001b[39mcopy()\n\u001b[0;32m     20\u001b[0m strat_df_dict \u001b[38;5;241m=\u001b[39m {k:strat_df_dict[k] \u001b[38;5;28;01mfor\u001b[39;00m k \u001b[38;5;129;01min\u001b[39;00m my_order}\n\u001b[0;32m     21\u001b[0m filtered_dict, fail_dict \u001b[38;5;241m=\u001b[39m final_qc(strat_df_dict,file_naming_scheme,qc_Rmp\u001b[38;5;241m=\u001b[39m\u001b[38;5;241m-\u001b[39m\u001b[38;5;241m35\u001b[39m,qc_AP_amp\u001b[38;5;241m=\u001b[39m\u001b[38;5;241m20\u001b[39m,qc_RR\u001b[38;5;241m=\u001b[39m\u001b[38;5;241m.20\u001b[39m,qc_Ra\u001b[38;5;241m=\u001b[39mnp\u001b[38;5;241m.\u001b[39minf,manual_exclusions\u001b[38;5;241m=\u001b[39mmanual_exclusions,exclusion_overide\u001b[38;5;241m=\u001b[39mexclusion_overide)\n",
            "\u001b[1;31mNameError\u001b[0m: name 'fast_results' is not defined"
          ]
        }
      ]
    },
    {
      "cell_type": "code",
      "source": [],
      "metadata": {
        "id": "z3CTYCmoGEFY"
      },
      "execution_count": null,
      "outputs": []
    },
    {
      "cell_type": "code",
      "source": [],
      "metadata": {
        "id": "1fGnkrOBGD70"
      },
      "execution_count": null,
      "outputs": []
    },
    {
      "cell_type": "code",
      "source": [
        "feature_list = ['Cm_pc_10.0',\n",
        "             'Cmq_160.0',\n",
        "             'Input_Resistance_MO',\n",
        "             'Rm_160.0',\n",
        "             'Rmp_mV',\n",
        "             'Gain_(HzpA)',\n",
        "             'Spike_latency_(ms)',\n",
        "             'Rheobase',\n",
        "             'inact_current_pA',\n",
        "             'ap_amplitutude',\n",
        "             'fast_after_hyperpol',\n",
        "             'sAHP',\n",
        "             'AP_thresh_US',\n",
        "             'ap50_width_ms']\n",
        "\n"
      ],
      "metadata": {
        "id": "uRFbRiwPz45N"
      },
      "execution_count": null,
      "outputs": []
    },
    {
      "cell_type": "code",
      "source": [],
      "metadata": {
        "id": "oGqkA4m3TCQf"
      },
      "execution_count": null,
      "outputs": []
    },
    {
      "cell_type": "code",
      "source": [],
      "metadata": {
        "id": "_HWCtVNPZSZm"
      },
      "execution_count": null,
      "outputs": []
    },
    {
      "cell_type": "code",
      "source": [
        "def generate_prism_csv(data_df,max_replicates=None):\n",
        "    data_type = data_df.columns[0]\n",
        "\n",
        "    # Step 1: Group data by 'Age_Bin' and 'Genotype' and collect values\n",
        "    grouped = data_df.groupby(['Age_Bin', 'Genotype'])[data_type].apply(list).reset_index()\n",
        "\n",
        "    # Step 2: Determine maximum number of replicates based on the size of groups\n",
        "    if max_replicates is None:\n",
        "        max_replicates = grouped[data_type].str.len().max()\n",
        "\n",
        "    # Step 3: Prepare a DataFrame for the multi-level index\n",
        "    results = []\n",
        "\n",
        "    # Replicate numbering function (retained as per your request)\n",
        "    def rep_num(i):\n",
        "        if i == 0:\n",
        "            return \"\"\n",
        "        else:\n",
        "            return f'{i + 1:03}'  # Returns '001', '002', etc.\n",
        "\n",
        "    # Step 4: Generate all possible rows, padding with None where necessary\n",
        "    for _, row in grouped.iterrows():\n",
        "        age_bin = row['Age_Bin']\n",
        "        geno_type = row['Genotype']\n",
        "        values = row[data_type]\n",
        "\n",
        "        # Ensure every group has max_replicates, padding missing values with None\n",
        "        for i in range(max_replicates):\n",
        "            if i < len(values):\n",
        "                # If value exists, use it\n",
        "                results.append({'Age_Bin': age_bin, 'Genotype': geno_type, 'Replicate': rep_num(i), 'Value': values[i]})\n",
        "            else:\n",
        "                # If no value, add a row with None\n",
        "                results.append({'Age_Bin': age_bin, 'Genotype': geno_type, 'Replicate': rep_num(i), 'Value': None})\n",
        "\n",
        "    # Step 5: Create a DataFrame from the results\n",
        "    final_df = pd.DataFrame(results)\n",
        "\n",
        "    # Step 6: Pivot the DataFrame to have Age_Bin as index and multi-level columns, ensuring all replicates exist\n",
        "    pivot_df = final_df.pivot_table(index='Age_Bin', columns=['Genotype', 'Replicate'], values='Value', aggfunc='first')\n",
        "\n",
        "    # Step 7: Ensure all replicate columns exist up to max_replicates, even if some are missing in the data\n",
        "    all_replicates = [rep_num(i) for i in range(max_replicates)]\n",
        "    pivot_df = pivot_df.reindex(columns=pd.MultiIndex.from_product([pivot_df.columns.levels[0], all_replicates]), fill_value=None)\n",
        "\n",
        "    # Step 8: Reset index for easier display\n",
        "    pivot_df.reset_index(inplace=True)\n",
        "\n",
        "    return pivot_df, max_replicates\n",
        "\n",
        "\n",
        "\n",
        "def flatten_multiindex(df):\n",
        "    df.columns = [''.join(map(str, col)).strip() for col in df.columns.values]\n",
        "    return df\n",
        "\n"
      ],
      "metadata": {
        "id": "Gi_m5T1lFFDh"
      },
      "execution_count": null,
      "outputs": []
    },
    {
      "cell_type": "code",
      "source": [],
      "metadata": {
        "colab": {
          "base_uri": "https://localhost:8080/"
        },
        "id": "sTp6NiFenl8-",
        "outputId": "1721df17-f191-4932-dea6-71b481461dbe"
      },
      "execution_count": null,
      "outputs": [
        {
          "output_type": "execute_result",
          "data": {
            "text/plain": [
              "232"
            ]
          },
          "metadata": {},
          "execution_count": 243
        }
      ]
    }
  ]
}