{
  "nbformat": 4,
  "nbformat_minor": 0,
  "metadata": {
    "colab": {
      "provenance": [],
      "include_colab_link": true
    },
    "kernelspec": {
      "name": "python3",
      "display_name": "Python 3"
    },
    "language_info": {
      "name": "python"
    }
  },
  "cells": [
    {
      "cell_type": "markdown",
      "metadata": {
        "id": "view-in-github",
        "colab_type": "text"
      },
      "source": [
        "<a href=\"https://colab.research.google.com/github/dtabuena/Patch_Ephys/blob/main/Refactor/Analyze_Recs.ipynb\" target=\"_parent\"><img src=\"https://colab.research.google.com/assets/colab-badge.svg\" alt=\"Open In Colab\"/></a>"
      ]
    },
    {
      "cell_type": "code",
      "source": [
        "'Get Standard Modules'\n",
        "\n",
        "import pandas as pd\n",
        "import numpy as np\n",
        "import matplotlib\n",
        "import matplotlib.pyplot as plt\n",
        "import scipy\n",
        "from scipy import stats\n",
        "import os\n",
        "from scipy.signal import butter,filtfilt\n",
        "from tqdm import tqdm\n",
        "import warnings\n",
        "from IPython.display import clear_output\n",
        "from datetime import datetime\n",
        "import sys\n",
        "import warnings\n",
        "import shutil\n",
        "import urllib.request\n",
        "import sklearn as skl\n",
        "import sklearn.mixture as skl_mixture\n",
        "import seaborn as sns\n",
        "# warnings.filterwarnings('ignore')\n",
        "# np.set_printoptions(threshold=sys.maxsize)\n",
        "# clear_output(wait=False)\n",
        "\n",
        "\n",
        "!pip install openpyxl\n",
        "!pip install XlsxWriter"
      ],
      "metadata": {
        "id": "AV0cPU5qPIxB",
        "colab": {
          "base_uri": "https://localhost:8080/"
        },
        "outputId": "4f10b8f8-c6bb-4b16-8677-a7afd3a45055"
      },
      "execution_count": 1,
      "outputs": [
        {
          "output_type": "stream",
          "name": "stdout",
          "text": [
            "Requirement already satisfied: openpyxl in c:\\users\\dennis.tabuena\\appdata\\local\\anaconda3\\lib\\site-packages (3.0.10)\n",
            "Requirement already satisfied: et_xmlfile in c:\\users\\dennis.tabuena\\appdata\\local\\anaconda3\\lib\\site-packages (from openpyxl) (1.1.0)\n",
            "Requirement already satisfied: XlsxWriter in c:\\users\\dennis.tabuena\\appdata\\local\\anaconda3\\lib\\site-packages (3.2.2)\n"
          ]
        }
      ]
    },
    {
      "cell_type": "code",
      "execution_count": 13,
      "metadata": {
        "id": "_KP8ILeu07BW",
        "colab": {
          "base_uri": "https://localhost:8080/"
        },
        "outputId": "6ada6534-7c93-407f-8eda-ad451ae9d9bf"
      },
      "outputs": [
        {
          "output_type": "stream",
          "name": "stdout",
          "text": [
            "https://raw.githubusercontent.com/dtabuena/PClamp_Tools/main/ABF_Quality_Control.ipynb\n",
            "https://raw.githubusercontent.com/dtabuena/PClamp_Tools/main/Basic_Ephys.ipynb\n",
            "https://raw.githubusercontent.com/dtabuena/PClamp_Tools/main/Simple_ABF_tools.ipynb\n",
            "https://raw.githubusercontent.com/dtabuena/PClamp_Tools/main/fun_math.ipynb\n",
            "https://raw.githubusercontent.com/dtabuena/PClamp_Tools/main/importing_abfs_from_dropbox.ipynb\n",
            "https://raw.githubusercontent.com/dtabuena/PClamp_Tools/main/QC_recoding_dataframe.ipynb\n",
            "https://raw.githubusercontent.com/dtabuena/PClamp_Tools/main/input_resistance_analyzer.ipynb\n",
            "https://raw.githubusercontent.com/dtabuena/PClamp_Tools/main/gain_analyzer.ipynb\n",
            "https://raw.githubusercontent.com/dtabuena/PClamp_Tools/main/latencey_analyzer.ipynb\n",
            "https://raw.githubusercontent.com/dtabuena/PClamp_Tools/main/IV_analyzer.ipynb\n",
            "https://raw.githubusercontent.com/dtabuena/PClamp_Tools/main/Vm_analyzer.ipynb\n",
            "https://raw.githubusercontent.com/dtabuena/PClamp_Tools/main/membrane_analyzer.ipynb\n",
            "https://raw.githubusercontent.com/dtabuena/PClamp_Tools/main/Ephys_wrapper.ipynb\n",
            "https://raw.githubusercontent.com/dtabuena/PClamp_Tools/main/rheobase_analyzer.ipynb\n",
            "https://raw.githubusercontent.com/dtabuena/PClamp_Tools/main/init_func_arg_dicts.ipynb\n"
          ]
        }
      ],
      "source": [
        "'''Get Repositories'''\n",
        "\"run dtabuena's ephys notebooks\"\n",
        "to_import = [\n",
        "            'ABF_Quality_Control.ipynb',\n",
        "            'Basic_Ephys.ipynb',\n",
        "            'Simple_ABF_tools.ipynb',\n",
        "            'fun_math.ipynb',\n",
        "            'importing_abfs_from_dropbox.ipynb',\n",
        "            'QC_recoding_dataframe.ipynb',\n",
        "            'input_resistance_analyzer.ipynb',\n",
        "            'gain_analyzer.ipynb',\n",
        "            'latencey_analyzer.ipynb',\n",
        "            'IV_analyzer.ipynb',\n",
        "            'Vm_analyzer.ipynb',\n",
        "            'membrane_analyzer.ipynb',\n",
        "            'Ephys_wrapper.ipynb',\n",
        "            'rheobase_analyzer.ipynb',\n",
        "            'init_func_arg_dicts.ipynb',\n",
        "            ]\n",
        "\n",
        "\n",
        "\n",
        "parent_folder = r\"C:\\Users\\dennis.tabuena\\Desktop\\Test_Folder\"\n",
        "os.chdir(parent_folder)\n",
        "\n",
        "code_dir = 'git_code'\n",
        "os.makedirs(code_dir,exist_ok=True)\n",
        "os.chdir(code_dir)\n",
        "\n",
        "for f in to_import:\n",
        "    git_link = 'https://raw.githubusercontent.com/dtabuena/PClamp_Tools/main/'+f\n",
        "    print(git_link)\n",
        "    urllib.request.urlretrieve(git_link,f)\n",
        "    %run $f\n",
        "import urllib\n",
        "response = urllib.request.urlretrieve('https://raw.githubusercontent.com/dtabuena/Resources/main/Matplotlib_Config/Load_FS6.py','Load_FS6.py')\n",
        "%run Load_FS6.py"
      ]
    },
    {
      "cell_type": "code",
      "source": [
        "def init_func_arg_dicts():\n",
        "    func_dict = {}\n",
        "    arg_dict = {}\n",
        "\n",
        "    # Spike arg defentitions\n",
        "    spike_args_gain={'spike_thresh':10, 'high_dv_thresh': 20,'low_dv_thresh': -5,'window_ms': 3}\n",
        "    spike_args_rheo ={'spike_thresh':15, 'high_dv_thresh': 30,'low_dv_thresh': -15,'window_ms': 2}\n",
        "\n",
        "\n",
        "\n",
        "    func_dict['VC - 3min GapFree']= rmp_analyzer\n",
        "    arg_dict['VC - 3min GapFree'] = [True] # [to_plot?]\n",
        "    func_dict['I0 - 3min GapFree']= rmp_analyzer\n",
        "    arg_dict['I0 - 3min GapFree'] = [True] # [to_plot?]\n",
        "\n",
        "    func_dict['IC - Rheobase']= rheobase_analyzer\n",
        "    arg_dict['IC - Rheobase'] = [spike_args_rheo, True, False, False]  # [spike_args, to_plot, verbose, force_singlespike]\n",
        "\n",
        "    func_dict['IC - Gain - D10pA']= gain_analyzer\n",
        "    arg_dict['IC - Gain - D10pA']= [spike_args_gain, 1, 4, .7,[-60,-80]]  # [spike_args, to_plot [0:2], max_fit_steps, rel_slope_cut, Vh_hilo]\n",
        "\n",
        "    func_dict['IC - Gain - D20pA']= gain_analyzer\n",
        "    arg_dict['IC - Gain - D20pA']= [spike_args_gain, 1, 4, .7,[-60,-80]]  # [spike_args, to_plot [0:2], max_fit_steps, rel_slope_cut, Vh_hilo]\n",
        "\n",
        "    func_dict['IC - Gain - D25pA']= gain_analyzer\n",
        "    arg_dict['IC - Gain - D25pA']= [spike_args_gain, 1, 4, .7,[-60,-80]]  # [spike_args, to_plot [0:2], max_fit_steps, rel_slope_cut, Vh_hilo]\n",
        "\n",
        "    func_dict['IC - Gain - D50pA']= func_dict['IC - Gain - D20pA']\n",
        "    arg_dict['IC - Gain - D50pA']= arg_dict['IC - Gain - D20pA']\n",
        "\n",
        "    func_dict['VC - MemTest-10ms-160ms']= membrane_analyzer\n",
        "    arg_dict['VC - MemTest-10ms-160ms']= [True, False, ['Ra', 'Rm', 'Cm', 'tau',\t'Cmq',\t'Cmf',\t'Cmqf', 'Cm_pc']]  # [to_plot, verbose]\n",
        "\n",
        "    func_dict['IC - Latentcy 800pA-1s']= latencey_analyzer\n",
        "    arg_dict['IC - Latentcy 800pA-1s']= [spike_args_gain, True]  # [spike_args, to_plot]\n",
        "\n",
        "    func_dict['IC - R input']= input_resistance_analyzer\n",
        "    arg_dict['IC - R input']= [[-30, 10] ,True]  # [dVm_limits, to_plot]\n",
        "\n",
        "    func_dict['VC - Multi IV - 150ms'] = IV_analyzer_v2\n",
        "    arg_dict['VC - Multi IV - 150ms']= [{'IV_Early':(4.5, 30),'IV_Steady_State':(70,80)} ,[False, True]]  # [measure_windows, to_plot]\n",
        "\n",
        "    return func_dict, arg_dict"
      ],
      "metadata": {
        "id": "_kk9-AHD2Sd4"
      },
      "execution_count": 22,
      "outputs": []
    },
    {
      "cell_type": "code",
      "source": [
        "##### Setup Protocol List\n",
        "VC_prot = ['VC - MemTest-10ms-160ms',\n",
        "           'VC - Multi IV - 150ms',]\n",
        "IC_prot = ['IC - Gain - D10pA',\n",
        "           'IC - Gain - D20pA',\n",
        "           'IC - Gain - D50pA',\n",
        "           'IC - Rheobase',\n",
        "           'IC - R input',\n",
        "           'IC - Latentcy 800pA-1s'\n",
        "           'VC - 3min GapFree',\n",
        "           'I0 - 3min GapFree']\n",
        "\n",
        "\n",
        "dataset = {'data_name': 'test_data',\n",
        "           'data_source': r\"C:\\Users\\dennis.tabuena\\Desktop\\Test_Folder\\test_data\",\n",
        "           'file_naming_scheme': ['Rec_date','geno','sex','age','orientation','slice','cell','type'],\n",
        "           }\n",
        "\n",
        "\n"
      ],
      "metadata": {
        "id": "im0sAJx5W7EY"
      },
      "execution_count": 14,
      "outputs": []
    },
    {
      "cell_type": "code",
      "source": [
        "analysis_dir =os.path.join(parent_folder,dataset['data_name'])\n",
        "os.makedirs(analysis_dir,exist_ok=True)\n",
        "os.chdir(analysis_dir)\n",
        "print(os.getcwd())"
      ],
      "metadata": {
        "id": "rET6VzdQWpzm",
        "outputId": "d629eb03-41bf-48e9-e92b-67ddad8e0155",
        "colab": {
          "base_uri": "https://localhost:8080/"
        }
      },
      "execution_count": 11,
      "outputs": [
        {
          "output_type": "stream",
          "name": "stdout",
          "text": [
            "C:\\Users\\dennis.tabuena\\Desktop\\Test_Folder\\test_data\n"
          ]
        }
      ]
    },
    {
      "cell_type": "code",
      "source": [],
      "metadata": {
        "id": "jEpq-9x4F7c_"
      },
      "execution_count": null,
      "outputs": []
    },
    {
      "cell_type": "code",
      "source": [
        "\"\"\"\n",
        "New function to analyze using itterator.\n",
        "BUT store results from each protocol in different dict\n",
        "\"\"\""
      ],
      "metadata": {
        "id": "3iEfPmz5PPGg",
        "colab": {
          "base_uri": "https://localhost:8080/"
        },
        "outputId": "31357d4a-2731-4308-86e7-56134acaf7d9"
      },
      "execution_count": 7,
      "outputs": [
        {
          "output_type": "execute_result",
          "data": {
            "text/plain": [
              "'\\nNew function to analyze using itterator.\\nBUT store results from each protocol in different dict\\n'"
            ]
          },
          "metadata": {},
          "execution_count": 7
        }
      ]
    },
    {
      "cell_type": "code",
      "source": [
        "\"\"\"\n",
        "Scripted Run\n",
        "(unwraped 'ephys wrapper')\n",
        "\"\"\"\n",
        "# init Output\n",
        "results = {}\n",
        "\n",
        "\n",
        "'''Build Basic DF'''\n",
        "abf_recordings_df, protocol_set = catalogue_recs(dataset['data_source'],dataset['file_naming_scheme'])\n",
        "results['abf_recordings_df'] = abf_recordings_df\n",
        "results['protocol_set'] = protocol_set\n",
        "\n",
        "'''# Protocol Look Up Table'''\n",
        "csv_name = cell_prot_lut(abf_recordings_df,protocol_set,csv_name=dataset['data_name']+'_Recording_LookUp')\n",
        "results['prot_lut'] = csv_name\n",
        "\n",
        "\n",
        "\n",
        "func_dict, arg_dict = init_func_arg_dicts()\n",
        "\n",
        "'''Protocol Look Up Table'''\n",
        "abf_recordings_df, problem_recs = analysis_iterator(abf_recordings_df,func_dict,arg_dict,verbose=False)\n",
        "clear_output()\n",
        "display(abf_recordings_df.head(3))\n",
        "abf_recordings_df.to_csv('abf_recordings_df.csv')\n",
        "\n",
        "'''Sort Cells'''\n",
        "cell_df = cell_sorting(abf_recordings_df)\n",
        "results['cell_df'] = cell_df\n",
        "display(cell_df.head(3))\n",
        "cell_df.to_csv('cell_df.csv')"
      ],
      "metadata": {
        "id": "VL-1pLcQVA6I",
        "colab": {
          "base_uri": "https://localhost:8080/",
          "height": 1000
        },
        "outputId": "52408988-dd3d-4b7e-cb97-2c5c62a18ecc"
      },
      "execution_count": 23,
      "outputs": [
        {
          "output_type": "display_data",
          "data": {
            "text/plain": [
              "                                                                                       Recording_name  \\\n",
              "file_name                                                                                               \n",
              "C:\\Users\\dennis.tabuena\\Desktop\\Test_Folder\\tes...  2025x06x19_E3KI_f_P627_sagi_s001_c001_DGC_0000...   \n",
              "C:\\Users\\dennis.tabuena\\Desktop\\Test_Folder\\tes...  2025x06x19_E3KI_f_P627_sagi_s001_c001_DGC_0001...   \n",
              "C:\\Users\\dennis.tabuena\\Desktop\\Test_Folder\\tes...  2025x06x19_E3KI_f_P627_sagi_s001_c001_DGC_0002...   \n",
              "\n",
              "                                                                                      cell_id  \\\n",
              "file_name                                                                                       \n",
              "C:\\Users\\dennis.tabuena\\Desktop\\Test_Folder\\tes...  2025x06x19_E3KI_f_P627_sagi_s001_c001_DGC   \n",
              "C:\\Users\\dennis.tabuena\\Desktop\\Test_Folder\\tes...  2025x06x19_E3KI_f_P627_sagi_s001_c001_DGC   \n",
              "C:\\Users\\dennis.tabuena\\Desktop\\Test_Folder\\tes...  2025x06x19_E3KI_f_P627_sagi_s001_c001_DGC   \n",
              "\n",
              "                                                      Rec_date  geno sex  \\\n",
              "file_name                                                                  \n",
              "C:\\Users\\dennis.tabuena\\Desktop\\Test_Folder\\tes...  2025x06x19  E3KI   f   \n",
              "C:\\Users\\dennis.tabuena\\Desktop\\Test_Folder\\tes...  2025x06x19  E3KI   f   \n",
              "C:\\Users\\dennis.tabuena\\Desktop\\Test_Folder\\tes...  2025x06x19  E3KI   f   \n",
              "\n",
              "                                                     age orientation slice  \\\n",
              "file_name                                                                    \n",
              "C:\\Users\\dennis.tabuena\\Desktop\\Test_Folder\\tes...  P627        sagi  s001   \n",
              "C:\\Users\\dennis.tabuena\\Desktop\\Test_Folder\\tes...  P627        sagi  s001   \n",
              "C:\\Users\\dennis.tabuena\\Desktop\\Test_Folder\\tes...  P627        sagi  s001   \n",
              "\n",
              "                                                    cell type  ...  \\\n",
              "file_name                                                      ...   \n",
              "C:\\Users\\dennis.tabuena\\Desktop\\Test_Folder\\tes...  c001  DGC  ...   \n",
              "C:\\Users\\dennis.tabuena\\Desktop\\Test_Folder\\tes...  c001  DGC  ...   \n",
              "C:\\Users\\dennis.tabuena\\Desktop\\Test_Folder\\tes...  c001  DGC  ...   \n",
              "\n",
              "                                                   rise_time_ms fall_time_ms  \\\n",
              "file_name                                                                      \n",
              "C:\\Users\\dennis.tabuena\\Desktop\\Test_Folder\\tes...         None         None   \n",
              "C:\\Users\\dennis.tabuena\\Desktop\\Test_Folder\\tes...         None         None   \n",
              "C:\\Users\\dennis.tabuena\\Desktop\\Test_Folder\\tes...         None         None   \n",
              "\n",
              "                                                   dv_max dv_min  \\\n",
              "file_name                                                          \n",
              "C:\\Users\\dennis.tabuena\\Desktop\\Test_Folder\\tes...   None   None   \n",
              "C:\\Users\\dennis.tabuena\\Desktop\\Test_Folder\\tes...   None   None   \n",
              "C:\\Users\\dennis.tabuena\\Desktop\\Test_Folder\\tes...   None   None   \n",
              "\n",
              "                                                   Spike_latency_(ms)  \\\n",
              "file_name                                                               \n",
              "C:\\Users\\dennis.tabuena\\Desktop\\Test_Folder\\tes...               None   \n",
              "C:\\Users\\dennis.tabuena\\Desktop\\Test_Folder\\tes...               None   \n",
              "C:\\Users\\dennis.tabuena\\Desktop\\Test_Folder\\tes...               None   \n",
              "\n",
              "                                                   Ramp_AP_thresh Ramp_Vh  \\\n",
              "file_name                                                                   \n",
              "C:\\Users\\dennis.tabuena\\Desktop\\Test_Folder\\tes...           None    None   \n",
              "C:\\Users\\dennis.tabuena\\Desktop\\Test_Folder\\tes...           None    None   \n",
              "C:\\Users\\dennis.tabuena\\Desktop\\Test_Folder\\tes...           None    None   \n",
              "\n",
              "                                                   Ramp_Rheobase  \\\n",
              "file_name                                                          \n",
              "C:\\Users\\dennis.tabuena\\Desktop\\Test_Folder\\tes...          None   \n",
              "C:\\Users\\dennis.tabuena\\Desktop\\Test_Folder\\tes...          None   \n",
              "C:\\Users\\dennis.tabuena\\Desktop\\Test_Folder\\tes...          None   \n",
              "\n",
              "                                                   Input_Resistance_MO  \\\n",
              "file_name                                                                \n",
              "C:\\Users\\dennis.tabuena\\Desktop\\Test_Folder\\tes...                None   \n",
              "C:\\Users\\dennis.tabuena\\Desktop\\Test_Folder\\tes...                None   \n",
              "C:\\Users\\dennis.tabuena\\Desktop\\Test_Folder\\tes...                None   \n",
              "\n",
              "                                                   Rin_Rsqr  \n",
              "file_name                                                    \n",
              "C:\\Users\\dennis.tabuena\\Desktop\\Test_Folder\\tes...     None  \n",
              "C:\\Users\\dennis.tabuena\\Desktop\\Test_Folder\\tes...     None  \n",
              "C:\\Users\\dennis.tabuena\\Desktop\\Test_Folder\\tes...     None  \n",
              "\n",
              "[3 rows x 62 columns]"
            ],
            "text/html": [
              "<div>\n",
              "<style scoped>\n",
              "    .dataframe tbody tr th:only-of-type {\n",
              "        vertical-align: middle;\n",
              "    }\n",
              "\n",
              "    .dataframe tbody tr th {\n",
              "        vertical-align: top;\n",
              "    }\n",
              "\n",
              "    .dataframe thead th {\n",
              "        text-align: right;\n",
              "    }\n",
              "</style>\n",
              "<table border=\"1\" class=\"dataframe\">\n",
              "  <thead>\n",
              "    <tr style=\"text-align: right;\">\n",
              "      <th></th>\n",
              "      <th>Recording_name</th>\n",
              "      <th>cell_id</th>\n",
              "      <th>Rec_date</th>\n",
              "      <th>geno</th>\n",
              "      <th>sex</th>\n",
              "      <th>age</th>\n",
              "      <th>orientation</th>\n",
              "      <th>slice</th>\n",
              "      <th>cell</th>\n",
              "      <th>type</th>\n",
              "      <th>...</th>\n",
              "      <th>rise_time_ms</th>\n",
              "      <th>fall_time_ms</th>\n",
              "      <th>dv_max</th>\n",
              "      <th>dv_min</th>\n",
              "      <th>Spike_latency_(ms)</th>\n",
              "      <th>Ramp_AP_thresh</th>\n",
              "      <th>Ramp_Vh</th>\n",
              "      <th>Ramp_Rheobase</th>\n",
              "      <th>Input_Resistance_MO</th>\n",
              "      <th>Rin_Rsqr</th>\n",
              "    </tr>\n",
              "    <tr>\n",
              "      <th>file_name</th>\n",
              "      <th></th>\n",
              "      <th></th>\n",
              "      <th></th>\n",
              "      <th></th>\n",
              "      <th></th>\n",
              "      <th></th>\n",
              "      <th></th>\n",
              "      <th></th>\n",
              "      <th></th>\n",
              "      <th></th>\n",
              "      <th></th>\n",
              "      <th></th>\n",
              "      <th></th>\n",
              "      <th></th>\n",
              "      <th></th>\n",
              "      <th></th>\n",
              "      <th></th>\n",
              "      <th></th>\n",
              "      <th></th>\n",
              "      <th></th>\n",
              "      <th></th>\n",
              "    </tr>\n",
              "  </thead>\n",
              "  <tbody>\n",
              "    <tr>\n",
              "      <th>C:\\Users\\dennis.tabuena\\Desktop\\Test_Folder\\test_data\\2025x06x19_E3KI_f_P627_sagi_s001_c001_DGC_0000.abf</th>\n",
              "      <td>2025x06x19_E3KI_f_P627_sagi_s001_c001_DGC_0000...</td>\n",
              "      <td>2025x06x19_E3KI_f_P627_sagi_s001_c001_DGC</td>\n",
              "      <td>2025x06x19</td>\n",
              "      <td>E3KI</td>\n",
              "      <td>f</td>\n",
              "      <td>P627</td>\n",
              "      <td>sagi</td>\n",
              "      <td>s001</td>\n",
              "      <td>c001</td>\n",
              "      <td>DGC</td>\n",
              "      <td>...</td>\n",
              "      <td>None</td>\n",
              "      <td>None</td>\n",
              "      <td>None</td>\n",
              "      <td>None</td>\n",
              "      <td>None</td>\n",
              "      <td>None</td>\n",
              "      <td>None</td>\n",
              "      <td>None</td>\n",
              "      <td>None</td>\n",
              "      <td>None</td>\n",
              "    </tr>\n",
              "    <tr>\n",
              "      <th>C:\\Users\\dennis.tabuena\\Desktop\\Test_Folder\\test_data\\2025x06x19_E3KI_f_P627_sagi_s001_c001_DGC_0001.abf</th>\n",
              "      <td>2025x06x19_E3KI_f_P627_sagi_s001_c001_DGC_0001...</td>\n",
              "      <td>2025x06x19_E3KI_f_P627_sagi_s001_c001_DGC</td>\n",
              "      <td>2025x06x19</td>\n",
              "      <td>E3KI</td>\n",
              "      <td>f</td>\n",
              "      <td>P627</td>\n",
              "      <td>sagi</td>\n",
              "      <td>s001</td>\n",
              "      <td>c001</td>\n",
              "      <td>DGC</td>\n",
              "      <td>...</td>\n",
              "      <td>None</td>\n",
              "      <td>None</td>\n",
              "      <td>None</td>\n",
              "      <td>None</td>\n",
              "      <td>None</td>\n",
              "      <td>None</td>\n",
              "      <td>None</td>\n",
              "      <td>None</td>\n",
              "      <td>None</td>\n",
              "      <td>None</td>\n",
              "    </tr>\n",
              "    <tr>\n",
              "      <th>C:\\Users\\dennis.tabuena\\Desktop\\Test_Folder\\test_data\\2025x06x19_E3KI_f_P627_sagi_s001_c001_DGC_0002.abf</th>\n",
              "      <td>2025x06x19_E3KI_f_P627_sagi_s001_c001_DGC_0002...</td>\n",
              "      <td>2025x06x19_E3KI_f_P627_sagi_s001_c001_DGC</td>\n",
              "      <td>2025x06x19</td>\n",
              "      <td>E3KI</td>\n",
              "      <td>f</td>\n",
              "      <td>P627</td>\n",
              "      <td>sagi</td>\n",
              "      <td>s001</td>\n",
              "      <td>c001</td>\n",
              "      <td>DGC</td>\n",
              "      <td>...</td>\n",
              "      <td>None</td>\n",
              "      <td>None</td>\n",
              "      <td>None</td>\n",
              "      <td>None</td>\n",
              "      <td>None</td>\n",
              "      <td>None</td>\n",
              "      <td>None</td>\n",
              "      <td>None</td>\n",
              "      <td>None</td>\n",
              "      <td>None</td>\n",
              "    </tr>\n",
              "  </tbody>\n",
              "</table>\n",
              "<p>3 rows × 62 columns</p>\n",
              "</div>"
            ]
          },
          "metadata": {}
        },
        {
          "output_type": "display_data",
          "data": {
            "text/plain": [
              "                                                                              Recording_name  \\\n",
              "2025x06x19_E3KI_f_P627_sagi_s001_c001_DGC  [2025x06x19_E3KI_f_P627_sagi_s001_c001_DGC_000...   \n",
              "2025x06x19_E3KI_f_P627_sagi_s001_c002_DGC  [2025x06x19_E3KI_f_P627_sagi_s001_c002_DGC_000...   \n",
              "2025x06x19_E3KI_f_P627_sagi_s001_c003_DGC  [2025x06x19_E3KI_f_P627_sagi_s001_c003_DGC_000...   \n",
              "\n",
              "                                                                                    Rec_date  \\\n",
              "2025x06x19_E3KI_f_P627_sagi_s001_c001_DGC  [2025x06x19, 2025x06x19, 2025x06x19, 2025x06x1...   \n",
              "2025x06x19_E3KI_f_P627_sagi_s001_c002_DGC  [2025x06x19, 2025x06x19, 2025x06x19, 2025x06x1...   \n",
              "2025x06x19_E3KI_f_P627_sagi_s001_c003_DGC  [2025x06x19, 2025x06x19, 2025x06x19, 2025x06x1...   \n",
              "\n",
              "                                                                                        geno  \\\n",
              "2025x06x19_E3KI_f_P627_sagi_s001_c001_DGC  [E3KI, E3KI, E3KI, E3KI, E3KI, E3KI, E3KI, E3K...   \n",
              "2025x06x19_E3KI_f_P627_sagi_s001_c002_DGC  [E3KI, E3KI, E3KI, E3KI, E3KI, E3KI, E3KI, E3K...   \n",
              "2025x06x19_E3KI_f_P627_sagi_s001_c003_DGC  [E3KI, E3KI, E3KI, E3KI, E3KI, E3KI, E3KI, E3K...   \n",
              "\n",
              "                                                                   sex  \\\n",
              "2025x06x19_E3KI_f_P627_sagi_s001_c001_DGC  [f, f, f, f, f, f, f, f, f]   \n",
              "2025x06x19_E3KI_f_P627_sagi_s001_c002_DGC  [f, f, f, f, f, f, f, f, f]   \n",
              "2025x06x19_E3KI_f_P627_sagi_s001_c003_DGC  [f, f, f, f, f, f, f, f, f]   \n",
              "\n",
              "                                                                                         age  \\\n",
              "2025x06x19_E3KI_f_P627_sagi_s001_c001_DGC  [P627, P627, P627, P627, P627, P627, P627, P62...   \n",
              "2025x06x19_E3KI_f_P627_sagi_s001_c002_DGC  [P627, P627, P627, P627, P627, P627, P627, P62...   \n",
              "2025x06x19_E3KI_f_P627_sagi_s001_c003_DGC  [P627, P627, P627, P627, P627, P627, P627, P62...   \n",
              "\n",
              "                                                                                 orientation  \\\n",
              "2025x06x19_E3KI_f_P627_sagi_s001_c001_DGC  [sagi, sagi, sagi, sagi, sagi, sagi, sagi, sag...   \n",
              "2025x06x19_E3KI_f_P627_sagi_s001_c002_DGC  [sagi, sagi, sagi, sagi, sagi, sagi, sagi, sag...   \n",
              "2025x06x19_E3KI_f_P627_sagi_s001_c003_DGC  [sagi, sagi, sagi, sagi, sagi, sagi, sagi, sag...   \n",
              "\n",
              "                                                                                       slice  \\\n",
              "2025x06x19_E3KI_f_P627_sagi_s001_c001_DGC  [s001, s001, s001, s001, s001, s001, s001, s00...   \n",
              "2025x06x19_E3KI_f_P627_sagi_s001_c002_DGC  [s001, s001, s001, s001, s001, s001, s001, s00...   \n",
              "2025x06x19_E3KI_f_P627_sagi_s001_c003_DGC  [s001, s001, s001, s001, s001, s001, s001, s00...   \n",
              "\n",
              "                                                                                        cell  \\\n",
              "2025x06x19_E3KI_f_P627_sagi_s001_c001_DGC  [c001, c001, c001, c001, c001, c001, c001, c00...   \n",
              "2025x06x19_E3KI_f_P627_sagi_s001_c002_DGC  [c002, c002, c002, c002, c002, c002, c002, c00...   \n",
              "2025x06x19_E3KI_f_P627_sagi_s001_c003_DGC  [c003, c003, c003, c003, c003, c003, c003, c00...   \n",
              "\n",
              "                                                                                    type  \\\n",
              "2025x06x19_E3KI_f_P627_sagi_s001_c001_DGC  [DGC, DGC, DGC, DGC, DGC, DGC, DGC, DGC, DGC]   \n",
              "2025x06x19_E3KI_f_P627_sagi_s001_c002_DGC  [DGC, DGC, DGC, DGC, DGC, DGC, DGC, DGC, DGC]   \n",
              "2025x06x19_E3KI_f_P627_sagi_s001_c003_DGC  [DGC, DGC, DGC, DGC, DGC, DGC, DGC, DGC, DGC]   \n",
              "\n",
              "                                                                                    protocol  \\\n",
              "2025x06x19_E3KI_f_P627_sagi_s001_c001_DGC  [VC - MemTest-10ms-160ms, I0 - 3min GapFree, V...   \n",
              "2025x06x19_E3KI_f_P627_sagi_s001_c002_DGC  [VC - MemTest-10ms-160ms, I0 - 3min GapFree, V...   \n",
              "2025x06x19_E3KI_f_P627_sagi_s001_c003_DGC  [I0 - 3min GapFree, VC - MemTest-10ms-160ms, V...   \n",
              "\n",
              "                                           ...  \\\n",
              "2025x06x19_E3KI_f_P627_sagi_s001_c001_DGC  ...   \n",
              "2025x06x19_E3KI_f_P627_sagi_s001_c002_DGC  ...   \n",
              "2025x06x19_E3KI_f_P627_sagi_s001_c003_DGC  ...   \n",
              "\n",
              "                                                                                rise_time_ms  \\\n",
              "2025x06x19_E3KI_f_P627_sagi_s001_c001_DGC  [None, None, None, None, 0.3, None, None, None...   \n",
              "2025x06x19_E3KI_f_P627_sagi_s001_c002_DGC  [None, None, None, None, None, 0.3, None, None...   \n",
              "2025x06x19_E3KI_f_P627_sagi_s001_c003_DGC  [None, None, None, None, 0.2125, None, None, N...   \n",
              "\n",
              "                                                                                fall_time_ms  \\\n",
              "2025x06x19_E3KI_f_P627_sagi_s001_c001_DGC  [None, None, None, None, 0.8375, None, None, N...   \n",
              "2025x06x19_E3KI_f_P627_sagi_s001_c002_DGC  [None, None, None, None, None, 1.0, None, None...   \n",
              "2025x06x19_E3KI_f_P627_sagi_s001_c003_DGC  [None, None, None, None, 0.7, None, None, None...   \n",
              "\n",
              "                                                                                      dv_max  \\\n",
              "2025x06x19_E3KI_f_P627_sagi_s001_c001_DGC  [None, None, None, None, 273.61221641445826, N...   \n",
              "2025x06x19_E3KI_f_P627_sagi_s001_c002_DGC  [None, None, None, None, None, 294.97290847999...   \n",
              "2025x06x19_E3KI_f_P627_sagi_s001_c003_DGC  [None, None, None, None, 456.65210073471405, N...   \n",
              "\n",
              "                                                                                      dv_min  \\\n",
              "2025x06x19_E3KI_f_P627_sagi_s001_c001_DGC  [None, None, None, None, -86.54487826875965, N...   \n",
              "2025x06x19_E3KI_f_P627_sagi_s001_c002_DGC  [None, None, None, None, None, -77.86372157768...   \n",
              "2025x06x19_E3KI_f_P627_sagi_s001_c003_DGC  [None, None, None, None, -113.98821811290603, ...   \n",
              "\n",
              "                                                                          Spike_latency_(ms)  \\\n",
              "2025x06x19_E3KI_f_P627_sagi_s001_c001_DGC  [None, None, None, None, None, 92.0, None, Non...   \n",
              "2025x06x19_E3KI_f_P627_sagi_s001_c002_DGC  [None, None, None, None, None, None, 33.5, Non...   \n",
              "2025x06x19_E3KI_f_P627_sagi_s001_c003_DGC  [None, None, None, None, None, 56.650000000000...   \n",
              "\n",
              "                                                                              Ramp_AP_thresh  \\\n",
              "2025x06x19_E3KI_f_P627_sagi_s001_c001_DGC  [None, None, None, None, None, -12.023926, Non...   \n",
              "2025x06x19_E3KI_f_P627_sagi_s001_c002_DGC  [None, None, None, None, None, None, -39.12353...   \n",
              "2025x06x19_E3KI_f_P627_sagi_s001_c003_DGC  [None, None, None, None, None, -44.433594, Non...   \n",
              "\n",
              "                                                                                     Ramp_Vh  \\\n",
              "2025x06x19_E3KI_f_P627_sagi_s001_c001_DGC  [None, None, None, None, None, -67.24419, None...   \n",
              "2025x06x19_E3KI_f_P627_sagi_s001_c002_DGC  [None, None, None, None, None, None, -71.72301...   \n",
              "2025x06x19_E3KI_f_P627_sagi_s001_c003_DGC  [None, None, None, None, None, -70.20854, None...   \n",
              "\n",
              "                                                                               Ramp_Rheobase  \\\n",
              "2025x06x19_E3KI_f_P627_sagi_s001_c001_DGC  [None, None, None, None, None, 147.29472947294...   \n",
              "2025x06x19_E3KI_f_P627_sagi_s001_c002_DGC  [None, None, None, None, None, None, 53.685368...   \n",
              "2025x06x19_E3KI_f_P627_sagi_s001_c003_DGC  [None, None, None, None, None, 90.729072907290...   \n",
              "\n",
              "                                                                         Input_Resistance_MO  \\\n",
              "2025x06x19_E3KI_f_P627_sagi_s001_c001_DGC  [None, None, None, None, None, None, 284.02977...   \n",
              "2025x06x19_E3KI_f_P627_sagi_s001_c002_DGC  [None, None, None, None, None, None, None, 613...   \n",
              "2025x06x19_E3KI_f_P627_sagi_s001_c003_DGC  [None, None, None, None, None, None, 230.11471...   \n",
              "\n",
              "                                                                                    Rin_Rsqr  \n",
              "2025x06x19_E3KI_f_P627_sagi_s001_c001_DGC  [None, None, None, None, None, None, 0.9934980...  \n",
              "2025x06x19_E3KI_f_P627_sagi_s001_c002_DGC  [None, None, None, None, None, None, None, 0.9...  \n",
              "2025x06x19_E3KI_f_P627_sagi_s001_c003_DGC  [None, None, None, None, None, None, 0.9979333...  \n",
              "\n",
              "[3 rows x 61 columns]"
            ],
            "text/html": [
              "<div>\n",
              "<style scoped>\n",
              "    .dataframe tbody tr th:only-of-type {\n",
              "        vertical-align: middle;\n",
              "    }\n",
              "\n",
              "    .dataframe tbody tr th {\n",
              "        vertical-align: top;\n",
              "    }\n",
              "\n",
              "    .dataframe thead th {\n",
              "        text-align: right;\n",
              "    }\n",
              "</style>\n",
              "<table border=\"1\" class=\"dataframe\">\n",
              "  <thead>\n",
              "    <tr style=\"text-align: right;\">\n",
              "      <th></th>\n",
              "      <th>Recording_name</th>\n",
              "      <th>Rec_date</th>\n",
              "      <th>geno</th>\n",
              "      <th>sex</th>\n",
              "      <th>age</th>\n",
              "      <th>orientation</th>\n",
              "      <th>slice</th>\n",
              "      <th>cell</th>\n",
              "      <th>type</th>\n",
              "      <th>protocol</th>\n",
              "      <th>...</th>\n",
              "      <th>rise_time_ms</th>\n",
              "      <th>fall_time_ms</th>\n",
              "      <th>dv_max</th>\n",
              "      <th>dv_min</th>\n",
              "      <th>Spike_latency_(ms)</th>\n",
              "      <th>Ramp_AP_thresh</th>\n",
              "      <th>Ramp_Vh</th>\n",
              "      <th>Ramp_Rheobase</th>\n",
              "      <th>Input_Resistance_MO</th>\n",
              "      <th>Rin_Rsqr</th>\n",
              "    </tr>\n",
              "  </thead>\n",
              "  <tbody>\n",
              "    <tr>\n",
              "      <th>2025x06x19_E3KI_f_P627_sagi_s001_c001_DGC</th>\n",
              "      <td>[2025x06x19_E3KI_f_P627_sagi_s001_c001_DGC_000...</td>\n",
              "      <td>[2025x06x19, 2025x06x19, 2025x06x19, 2025x06x1...</td>\n",
              "      <td>[E3KI, E3KI, E3KI, E3KI, E3KI, E3KI, E3KI, E3K...</td>\n",
              "      <td>[f, f, f, f, f, f, f, f, f]</td>\n",
              "      <td>[P627, P627, P627, P627, P627, P627, P627, P62...</td>\n",
              "      <td>[sagi, sagi, sagi, sagi, sagi, sagi, sagi, sag...</td>\n",
              "      <td>[s001, s001, s001, s001, s001, s001, s001, s00...</td>\n",
              "      <td>[c001, c001, c001, c001, c001, c001, c001, c00...</td>\n",
              "      <td>[DGC, DGC, DGC, DGC, DGC, DGC, DGC, DGC, DGC]</td>\n",
              "      <td>[VC - MemTest-10ms-160ms, I0 - 3min GapFree, V...</td>\n",
              "      <td>...</td>\n",
              "      <td>[None, None, None, None, 0.3, None, None, None...</td>\n",
              "      <td>[None, None, None, None, 0.8375, None, None, N...</td>\n",
              "      <td>[None, None, None, None, 273.61221641445826, N...</td>\n",
              "      <td>[None, None, None, None, -86.54487826875965, N...</td>\n",
              "      <td>[None, None, None, None, None, 92.0, None, Non...</td>\n",
              "      <td>[None, None, None, None, None, -12.023926, Non...</td>\n",
              "      <td>[None, None, None, None, None, -67.24419, None...</td>\n",
              "      <td>[None, None, None, None, None, 147.29472947294...</td>\n",
              "      <td>[None, None, None, None, None, None, 284.02977...</td>\n",
              "      <td>[None, None, None, None, None, None, 0.9934980...</td>\n",
              "    </tr>\n",
              "    <tr>\n",
              "      <th>2025x06x19_E3KI_f_P627_sagi_s001_c002_DGC</th>\n",
              "      <td>[2025x06x19_E3KI_f_P627_sagi_s001_c002_DGC_000...</td>\n",
              "      <td>[2025x06x19, 2025x06x19, 2025x06x19, 2025x06x1...</td>\n",
              "      <td>[E3KI, E3KI, E3KI, E3KI, E3KI, E3KI, E3KI, E3K...</td>\n",
              "      <td>[f, f, f, f, f, f, f, f, f]</td>\n",
              "      <td>[P627, P627, P627, P627, P627, P627, P627, P62...</td>\n",
              "      <td>[sagi, sagi, sagi, sagi, sagi, sagi, sagi, sag...</td>\n",
              "      <td>[s001, s001, s001, s001, s001, s001, s001, s00...</td>\n",
              "      <td>[c002, c002, c002, c002, c002, c002, c002, c00...</td>\n",
              "      <td>[DGC, DGC, DGC, DGC, DGC, DGC, DGC, DGC, DGC]</td>\n",
              "      <td>[VC - MemTest-10ms-160ms, I0 - 3min GapFree, V...</td>\n",
              "      <td>...</td>\n",
              "      <td>[None, None, None, None, None, 0.3, None, None...</td>\n",
              "      <td>[None, None, None, None, None, 1.0, None, None...</td>\n",
              "      <td>[None, None, None, None, None, 294.97290847999...</td>\n",
              "      <td>[None, None, None, None, None, -77.86372157768...</td>\n",
              "      <td>[None, None, None, None, None, None, 33.5, Non...</td>\n",
              "      <td>[None, None, None, None, None, None, -39.12353...</td>\n",
              "      <td>[None, None, None, None, None, None, -71.72301...</td>\n",
              "      <td>[None, None, None, None, None, None, 53.685368...</td>\n",
              "      <td>[None, None, None, None, None, None, None, 613...</td>\n",
              "      <td>[None, None, None, None, None, None, None, 0.9...</td>\n",
              "    </tr>\n",
              "    <tr>\n",
              "      <th>2025x06x19_E3KI_f_P627_sagi_s001_c003_DGC</th>\n",
              "      <td>[2025x06x19_E3KI_f_P627_sagi_s001_c003_DGC_000...</td>\n",
              "      <td>[2025x06x19, 2025x06x19, 2025x06x19, 2025x06x1...</td>\n",
              "      <td>[E3KI, E3KI, E3KI, E3KI, E3KI, E3KI, E3KI, E3K...</td>\n",
              "      <td>[f, f, f, f, f, f, f, f, f]</td>\n",
              "      <td>[P627, P627, P627, P627, P627, P627, P627, P62...</td>\n",
              "      <td>[sagi, sagi, sagi, sagi, sagi, sagi, sagi, sag...</td>\n",
              "      <td>[s001, s001, s001, s001, s001, s001, s001, s00...</td>\n",
              "      <td>[c003, c003, c003, c003, c003, c003, c003, c00...</td>\n",
              "      <td>[DGC, DGC, DGC, DGC, DGC, DGC, DGC, DGC, DGC]</td>\n",
              "      <td>[I0 - 3min GapFree, VC - MemTest-10ms-160ms, V...</td>\n",
              "      <td>...</td>\n",
              "      <td>[None, None, None, None, 0.2125, None, None, N...</td>\n",
              "      <td>[None, None, None, None, 0.7, None, None, None...</td>\n",
              "      <td>[None, None, None, None, 456.65210073471405, N...</td>\n",
              "      <td>[None, None, None, None, -113.98821811290603, ...</td>\n",
              "      <td>[None, None, None, None, None, 56.650000000000...</td>\n",
              "      <td>[None, None, None, None, None, -44.433594, Non...</td>\n",
              "      <td>[None, None, None, None, None, -70.20854, None...</td>\n",
              "      <td>[None, None, None, None, None, 90.729072907290...</td>\n",
              "      <td>[None, None, None, None, None, None, 230.11471...</td>\n",
              "      <td>[None, None, None, None, None, None, 0.9979333...</td>\n",
              "    </tr>\n",
              "  </tbody>\n",
              "</table>\n",
              "<p>3 rows × 61 columns</p>\n",
              "</div>"
            ]
          },
          "metadata": {}
        },
        {
          "output_type": "display_data",
          "data": {
            "text/plain": [
              "<Figure size 450x450 with 0 Axes>"
            ]
          },
          "metadata": {}
        },
        {
          "output_type": "display_data",
          "data": {
            "text/plain": [
              "<Figure size 1200x450 with 2 Axes>"
            ],
            "image/png": "[encoded data removed]"
          },
          "metadata": {}
        }
      ]
    },
    {
      "cell_type": "code",
      "source": [
        "\n",
        "# fast_results = ephys_wrapper_local(dataset,VC_prot,IC_prot,strat_cols=['Genotype','Age_Bin'],age_bin_dict=age_bin_dict)"
      ],
      "metadata": {
        "id": "eWeEJGT3NHdB"
      },
      "execution_count": null,
      "outputs": []
    },
    {
      "cell_type": "code",
      "source": [],
      "metadata": {
        "id": "Zlzq9ocUU1fw"
      },
      "execution_count": null,
      "outputs": []
    },
    {
      "cell_type": "code",
      "source": [
        "print(os.getcwd().replace('\\\\','/'))"
      ],
      "metadata": {
        "colab": {
          "base_uri": "https://localhost:8080/"
        },
        "id": "n_pJS-NUd8ML",
        "outputId": "1e352e9f-baae-4902-dd35-d57d44f6bc42"
      },
      "execution_count": null,
      "outputs": [
        {
          "output_type": "stream",
          "name": "stdout",
          "text": [
            "C:/Users/dennis.tabuena/Dropbox (Gladstone)/0_Projects/_ApoE Patch Seq/Analysis_Workspace/Ephys/patch_seq_Cohort_02\n"
          ]
        }
      ]
    },
    {
      "cell_type": "code",
      "source": [
        "# fast_results = substitute_gain_rheobase(fast_results,\n",
        "#                                        strat_cols=['Genotype','Age_Bin','Cell_Type'],\n",
        "#                                        age_bin_dict=age_bin_dict)\n"
      ],
      "metadata": {
        "id": "MqYqh8Esdr6Z"
      },
      "execution_count": null,
      "outputs": []
    },
    {
      "cell_type": "code",
      "source": [
        "f = fast_results"
      ],
      "metadata": {
        "id": "87zsYSUxyN_i"
      },
      "execution_count": null,
      "outputs": []
    },
    {
      "cell_type": "code",
      "source": [
        "\n",
        "single_val_strat_groups = ['ap_amplitutude',\n",
        "                            'Rmp_mV',\n",
        "                            'Cmq_160.0',\n",
        "                            'Ra_160.0',\n",
        "                            'Rm_160.0',\n",
        "                            'Gain_(HzpA)',\n",
        "                            'inact_current_pA',\n",
        "                            'Rheobase',\n",
        "                            'AP_thresh_US',\n",
        "                            'fast_after_hyperpol',\n",
        "                            'Spike_latency_(ms)',\n",
        "                            'Input_Resistance_MO',\n",
        "                            ]\n",
        "\n",
        "\n",
        "manual_exclusions = ['']\n",
        "exclusion_overide = ['']\n",
        "file_naming_scheme = dataset['file_naming_scheme']\n",
        "strat_df_dict = fast_results['strat_df_dict'].copy()\n",
        "strat_df_dict = {k:strat_df_dict[k] for k in my_order}\n",
        "filtered_dict, fail_dict = final_qc(strat_df_dict,file_naming_scheme,qc_Rmp=-35,qc_AP_amp=20,qc_RR=.20,qc_Ra=np.inf,manual_exclusions=manual_exclusions,exclusion_overide=exclusion_overide)\n",
        "alt_strat_dict = restratify_results(filtered_dict,file_naming_scheme,single_val_strat_groups)\n",
        "\n",
        "resp_curve_list = ['IV_Early_(V_stim)','IV_Early_(I_peak)','IV_Steady_State_(I_mean)','Stim_Levels_(pA)','Spike_Counts']\n",
        "response_curve_data = stratify_response_curve(filtered_dict,resp_curve_list,strat_list=[''])\n",
        "alt_strat_dict.update(response_curve_data)\n",
        "write_strat_dfs_local(alt_strat_dict, dataset['data_name']+'_results_stratified_alternate')\n",
        "print(os.getcwd())\n"
      ],
      "metadata": {
        "id": "SpeFrwv9jbqq",
        "colab": {
          "base_uri": "https://localhost:8080/",
          "height": 228
        },
        "outputId": "fc0e9648-00a5-4835-c158-cef1c71e15d1"
      },
      "execution_count": 24,
      "outputs": [
        {
          "output_type": "error",
          "ename": "NameError",
          "evalue": "name 'fast_results' is not defined",
          "traceback": [
            "\u001b[1;31m---------------------------------------------------------------------------\u001b[0m",
            "\u001b[1;31mNameError\u001b[0m                                 Traceback (most recent call last)",
            "Cell \u001b[1;32mIn[24], line 19\u001b[0m\n\u001b[0;32m     17\u001b[0m exclusion_overide \u001b[38;5;241m=\u001b[39m [\u001b[38;5;124m'\u001b[39m\u001b[38;5;124m'\u001b[39m]\n\u001b[0;32m     18\u001b[0m file_naming_scheme \u001b[38;5;241m=\u001b[39m dataset[\u001b[38;5;124m'\u001b[39m\u001b[38;5;124mfile_naming_scheme\u001b[39m\u001b[38;5;124m'\u001b[39m]\n\u001b[1;32m---> 19\u001b[0m strat_df_dict \u001b[38;5;241m=\u001b[39m fast_results[\u001b[38;5;124m'\u001b[39m\u001b[38;5;124mstrat_df_dict\u001b[39m\u001b[38;5;124m'\u001b[39m]\u001b[38;5;241m.\u001b[39mcopy()\n\u001b[0;32m     20\u001b[0m strat_df_dict \u001b[38;5;241m=\u001b[39m {k:strat_df_dict[k] \u001b[38;5;28;01mfor\u001b[39;00m k \u001b[38;5;129;01min\u001b[39;00m my_order}\n\u001b[0;32m     21\u001b[0m filtered_dict, fail_dict \u001b[38;5;241m=\u001b[39m final_qc(strat_df_dict,file_naming_scheme,qc_Rmp\u001b[38;5;241m=\u001b[39m\u001b[38;5;241m-\u001b[39m\u001b[38;5;241m35\u001b[39m,qc_AP_amp\u001b[38;5;241m=\u001b[39m\u001b[38;5;241m20\u001b[39m,qc_RR\u001b[38;5;241m=\u001b[39m\u001b[38;5;241m.20\u001b[39m,qc_Ra\u001b[38;5;241m=\u001b[39mnp\u001b[38;5;241m.\u001b[39minf,manual_exclusions\u001b[38;5;241m=\u001b[39mmanual_exclusions,exclusion_overide\u001b[38;5;241m=\u001b[39mexclusion_overide)\n",
            "\u001b[1;31mNameError\u001b[0m: name 'fast_results' is not defined"
          ]
        }
      ]
    },
    {
      "cell_type": "code",
      "source": [],
      "metadata": {
        "id": "z3CTYCmoGEFY"
      },
      "execution_count": null,
      "outputs": []
    },
    {
      "cell_type": "code",
      "source": [],
      "metadata": {
        "id": "1fGnkrOBGD70"
      },
      "execution_count": null,
      "outputs": []
    },
    {
      "cell_type": "code",
      "source": [
        "feature_list = ['Cm_pc_10.0',\n",
        "             'Cmq_160.0',\n",
        "             'Input_Resistance_MO',\n",
        "             'Rm_160.0',\n",
        "             'Rmp_mV',\n",
        "             'Gain_(HzpA)',\n",
        "             'Spike_latency_(ms)',\n",
        "             'Rheobase',\n",
        "             'inact_current_pA',\n",
        "             'ap_amplitutude',\n",
        "             'fast_after_hyperpol',\n",
        "             'sAHP',\n",
        "             'AP_thresh_US',\n",
        "             'ap50_width_ms']\n",
        "\n"
      ],
      "metadata": {
        "id": "uRFbRiwPz45N"
      },
      "execution_count": null,
      "outputs": []
    },
    {
      "cell_type": "code",
      "source": [],
      "metadata": {
        "id": "oGqkA4m3TCQf"
      },
      "execution_count": null,
      "outputs": []
    },
    {
      "cell_type": "code",
      "source": [],
      "metadata": {
        "id": "_HWCtVNPZSZm"
      },
      "execution_count": null,
      "outputs": []
    },
    {
      "cell_type": "code",
      "source": [
        "def generate_prism_csv(data_df,max_replicates=None):\n",
        "    data_type = data_df.columns[0]\n",
        "\n",
        "    # Step 1: Group data by 'Age_Bin' and 'Genotype' and collect values\n",
        "    grouped = data_df.groupby(['Age_Bin', 'Genotype'])[data_type].apply(list).reset_index()\n",
        "\n",
        "    # Step 2: Determine maximum number of replicates based on the size of groups\n",
        "    if max_replicates is None:\n",
        "        max_replicates = grouped[data_type].str.len().max()\n",
        "\n",
        "    # Step 3: Prepare a DataFrame for the multi-level index\n",
        "    results = []\n",
        "\n",
        "    # Replicate numbering function (retained as per your request)\n",
        "    def rep_num(i):\n",
        "        if i == 0:\n",
        "            return \"\"\n",
        "        else:\n",
        "            return f'{i + 1:03}'  # Returns '001', '002', etc.\n",
        "\n",
        "    # Step 4: Generate all possible rows, padding with None where necessary\n",
        "    for _, row in grouped.iterrows():\n",
        "        age_bin = row['Age_Bin']\n",
        "        geno_type = row['Genotype']\n",
        "        values = row[data_type]\n",
        "\n",
        "        # Ensure every group has max_replicates, padding missing values with None\n",
        "        for i in range(max_replicates):\n",
        "            if i < len(values):\n",
        "                # If value exists, use it\n",
        "                results.append({'Age_Bin': age_bin, 'Genotype': geno_type, 'Replicate': rep_num(i), 'Value': values[i]})\n",
        "            else:\n",
        "                # If no value, add a row with None\n",
        "                results.append({'Age_Bin': age_bin, 'Genotype': geno_type, 'Replicate': rep_num(i), 'Value': None})\n",
        "\n",
        "    # Step 5: Create a DataFrame from the results\n",
        "    final_df = pd.DataFrame(results)\n",
        "\n",
        "    # Step 6: Pivot the DataFrame to have Age_Bin as index and multi-level columns, ensuring all replicates exist\n",
        "    pivot_df = final_df.pivot_table(index='Age_Bin', columns=['Genotype', 'Replicate'], values='Value', aggfunc='first')\n",
        "\n",
        "    # Step 7: Ensure all replicate columns exist up to max_replicates, even if some are missing in the data\n",
        "    all_replicates = [rep_num(i) for i in range(max_replicates)]\n",
        "    pivot_df = pivot_df.reindex(columns=pd.MultiIndex.from_product([pivot_df.columns.levels[0], all_replicates]), fill_value=None)\n",
        "\n",
        "    # Step 8: Reset index for easier display\n",
        "    pivot_df.reset_index(inplace=True)\n",
        "\n",
        "    return pivot_df, max_replicates\n",
        "\n",
        "\n",
        "\n",
        "def flatten_multiindex(df):\n",
        "    df.columns = [''.join(map(str, col)).strip() for col in df.columns.values]\n",
        "    return df\n",
        "\n"
      ],
      "metadata": {
        "id": "Gi_m5T1lFFDh"
      },
      "execution_count": null,
      "outputs": []
    },
    {
      "cell_type": "code",
      "source": [],
      "metadata": {
        "colab": {
          "base_uri": "https://localhost:8080/"
        },
        "id": "sTp6NiFenl8-",
        "outputId": "1721df17-f191-4932-dea6-71b481461dbe"
      },
      "execution_count": null,
      "outputs": [
        {
          "output_type": "execute_result",
          "data": {
            "text/plain": [
              "232"
            ]
          },
          "metadata": {},
          "execution_count": 243
        }
      ]
    }
  ]
}