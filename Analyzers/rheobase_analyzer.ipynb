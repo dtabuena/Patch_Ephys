{
  "nbformat": 4,
  "nbformat_minor": 0,
  "metadata": {
    "colab": {
      "provenance": [],
      "include_colab_link": true
    },
    "kernelspec": {
      "name": "python3",
      "display_name": "Python 3"
    },
    "language_info": {
      "name": "python"
    }
  },
  "cells": [
    {
      "cell_type": "markdown",
      "metadata": {
        "id": "view-in-github",
        "colab_type": "text"
      },
      "source": [
        "<a href=\"https://colab.research.google.com/github/dtabuena/EphysLib/blob/main/Analyzers/rheobase_analyzer.ipynb\" target=\"_parent\"><img src=\"https://colab.research.google.com/assets/colab-badge.svg\" alt=\"Open In Colab\"/></a>"
      ]
    },
    {
      "cell_type": "code",
      "execution_count": null,
      "metadata": {
        "id": "gaFG52X2bPSV"
      },
      "outputs": [],
      "source": [
        "''' Requires:\n",
        "    Simple_ABF_tools.ipynb\n",
        "    Basic_Ephys.ipynb\n",
        "'''\n",
        "\n",
        "def rheobase_analyzer(file_name,\n",
        "                        spike_args =  {'spike_thresh':20, 'high_dv_thresh': 25,'low_dv_thresh': -50,'window_ms': 2},\n",
        "                        to_plot=False,\n",
        "                        verbose=False,\n",
        "                        single_spike=True,figopt={'type':'jpg','dpi':300}):\n",
        "\n",
        "    ''' File Analyzer for Rheobase etc  '''\n",
        "\n",
        "    results = {} # default return\n",
        "\n",
        "    abf = abf_or_name(file_name)\n",
        "\n",
        "\n",
        "    # Rheobase Measure:\n",
        "    if len(abf.sweepList)<2:\n",
        "        return results\n",
        "    else:\n",
        "        is_base, is_stim = protocol_baseline_and_stim(abf)\n",
        "        stim_currents, spike_counts, spike_rates, V_before_AP,V_before_stim,_ ,_= spikes_per_stim_LEGACY(abf, spike_args,to_plot=to_plot)\n",
        "        single_spikes = spike_counts==1\n",
        "        zero_spikes = spike_counts==0\n",
        "        if single_spike:\n",
        "            none_to_one = np.full(single_spikes.shape, False)\n",
        "            none_to_one[1:] = np.logical_and(single_spikes[1:], zero_spikes[:-1])\n",
        "            first_spike_stim = np.where(none_to_one)[0]\n",
        "        else:\n",
        "            some_spikes = spike_counts>0\n",
        "            none_to_some = np.full(single_spikes.shape, False)\n",
        "            none_to_some[1:] = np.logical_and(some_spikes[1:], zero_spikes[:-1])\n",
        "            first_spike_stim = np.where(none_to_some)[0]\n",
        "\n",
        "\n",
        "    if first_spike_stim.size == 0:\n",
        "        return results\n",
        "    else:\n",
        "        if first_spike_stim.size >1:\n",
        "            first_spike_stim = np.min(first_spike_stim)\n",
        "        results['Rheobase'] = stim_currents[first_spike_stim][0]\n",
        "        results['Vhold_spike'] = V_before_stim[first_spike_stim][0]\n",
        "        results['AP_thresh'] = V_before_AP[first_spike_stim][0]\n",
        "\n",
        "    if first_spike_stim.size>0:\n",
        "        # try:\n",
        "        abf = abf_or_name(file_name)\n",
        "        abf.setSweep(first_spike_stim[0])\n",
        "        ap_params = single_ap_stats(abf,spike_args,window_ms=[-3, 9.5],to_plot=to_plot,verbose=verbose)\n",
        "        results.update(ap_params)\n",
        "        # except:\n",
        "        #     print('ap_stats_failed: ', file_name)\n",
        "\n",
        "\n",
        "    if to_plot:\n",
        "        rheo_fig, ax = plt.subplots(1,1)\n",
        "\n",
        "        try:    os.makedirs('Saved_Figs/Rheobase/')\n",
        "        except:     None\n",
        "        for s in abf.sweepList:\n",
        "            abf.setSweep(s)\n",
        "            ax.plot(abf.sweepX,abf.sweepY,label = str(stim_currents[s]) + ' pA')\n",
        "        ax.legend(loc='center right') #,bbox_to_anchor=(1,0.5)\n",
        "        plt.show()\n",
        "        plt.tight_layout()\n",
        "        rheo_fig.savefig( 'Saved_Figs/Rheobase/Rheobase' + '_' + abf.abfID +'.'+figopt['type'],dpi=figopt['dpi'])\n",
        "\n",
        "\n",
        "    return results\n",
        "\n",
        "\n"
      ]
    }
  ]
}